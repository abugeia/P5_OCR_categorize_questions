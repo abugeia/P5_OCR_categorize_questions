{
 "cells": [
  {
   "cell_type": "code",
   "execution_count": null,
   "metadata": {},
   "outputs": [],
   "source": []
  },
  {
   "cell_type": "markdown",
   "metadata": {},
   "source": [
    "# Questions\r\n",
    "\r\n",
    "* Bcp de mots étranges révélés par le tf-idf, est ce normal ? mon regex tokenizer est il bon ?\r\n",
    "\r\n",
    "<img src=\"14858512893477_so-logo.png\" width=\"600px\">    \r\n",
    "\r\n",
    "<h1 style=\"font-family:verdana;font-size:300%;text-align:left;\">Catégorisez automatiquement des questions</h1>\r\n",
    "\r\n",
    "---\r\n",
    "<a id=\"top\"></a>\r\n",
    "<h1 style=\"font-family:verdana;font-size:300%;text-align:left;\">Sommaire</h1>\r\n",
    "\r\n",
    "\r\n",
    "* [1. Sujet](#1)\r\n",
    "    * [1.1 Contexte](#1.1)\r\n",
    "    * [1.2 Extraction SQL](#1.2) "
   ]
  },
  {
   "cell_type": "code",
   "execution_count": 11,
   "metadata": {},
   "outputs": [],
   "source": [
    "%matplotlib inline\r\n",
    "\r\n",
    "# Generic librairies\r\n",
    "import numpy as np\r\n",
    "import pandas as pd\r\n",
    "import matplotlib.pyplot as plt\r\n",
    "import seaborn as sns\r\n",
    "from IPython.display import display, HTML\r\n",
    "from IPython.core.interactiveshell import InteractiveShell\r\n",
    "from flask import Flask\r\n",
    "\r\n",
    "# pd.set_option('display.max_column', 100)\r\n",
    "\r\n",
    "# Activate multi output\r\n",
    "InteractiveShell.ast_node_interactivity = \"all\"\r\n",
    "\r\n",
    "# # For jupyter NB users \r\n",
    "# # set size of window\r\n",
    "# display(HTML(data=\"\"\"\r\n",
    "# <style>\r\n",
    "#     div#notebook-container    { width: 95%; }\r\n",
    "#     div#menubar-container     { width: 65%; }\r\n",
    "#     div#maintoolbar-container { width: 99%; }\r\n",
    "# </style>\r\n",
    "# \"\"\"))"
   ]
  },
  {
   "cell_type": "code",
   "execution_count": 12,
   "metadata": {},
   "outputs": [],
   "source": []
  },
  {
   "cell_type": "code",
   "execution_count": 3,
   "metadata": {},
   "outputs": [],
   "source": [
    "file = \"data/data_clean.csv\"\r\n",
    "df = pd.read_csv(file, index_col='CreationDate', parse_dates=True)"
   ]
  },
  {
   "cell_type": "code",
   "execution_count": 4,
   "metadata": {},
   "outputs": [
    {
     "data": {
      "text/html": "<div>\n<style scoped>\n    .dataframe tbody tr th:only-of-type {\n        vertical-align: middle;\n    }\n\n    .dataframe tbody tr th {\n        vertical-align: top;\n    }\n\n    .dataframe thead th {\n        text-align: right;\n    }\n</style>\n<table border=\"1\" class=\"dataframe\">\n  <thead>\n    <tr style=\"text-align: right;\">\n      <th></th>\n      <th>Score</th>\n      <th>ViewCount</th>\n      <th>Body</th>\n      <th>Title</th>\n      <th>Tags</th>\n      <th>AnswerCount</th>\n      <th>CommentCount</th>\n      <th>FavoriteCount</th>\n      <th>Body_tok</th>\n      <th>Title_tok</th>\n      <th>Tags_tok</th>\n      <th>Text_tok</th>\n      <th>Text</th>\n    </tr>\n    <tr>\n      <th>CreationDate</th>\n      <th></th>\n      <th></th>\n      <th></th>\n      <th></th>\n      <th></th>\n      <th></th>\n      <th></th>\n      <th></th>\n      <th></th>\n      <th></th>\n      <th></th>\n      <th></th>\n      <th></th>\n    </tr>\n  </thead>\n  <tbody>\n    <tr>\n      <th>2010-09-27 06:56:36</th>\n      <td>152</td>\n      <td>66955</td>\n      <td>i lately had the problem of creating add and e...</td>\n      <td>good or bad practice for dialogs in wpf with m...</td>\n      <td>&lt;c#&gt;&lt;.net&gt;&lt;wpf&gt;&lt;mvvm&gt;&lt;modal-dialog&gt;</td>\n      <td>3</td>\n      <td>12</td>\n      <td>115</td>\n      <td>['lately', 'problem', 'creating', 'add', 'edit...</td>\n      <td>['good', 'bad', 'practice', 'dialog', 'wpf', '...</td>\n      <td>['c#', '.net', 'wpf', 'mvvm', 'modal-dialog']</td>\n      <td>['good', 'bad', 'practice', 'dialog', 'wpf', '...</td>\n      <td>good or bad practice for dialogs in wpf with m...</td>\n    </tr>\n    <tr>\n      <th>2008-08-11 08:55:13</th>\n      <td>147</td>\n      <td>253229</td>\n      <td>in c, are the shift operators (&lt;&lt;,&gt;&gt;) arithmet...</td>\n      <td>are the shift operators (&lt;&lt;, &gt;&gt;) arithmetic or...</td>\n      <td>&lt;c&gt;&lt;binary&gt;&lt;bit-manipulation&gt;&lt;bit-shift&gt;</td>\n      <td>11</td>\n      <td>1</td>\n      <td>60</td>\n      <td>['c', 'shift', 'operator', 'arithmetic', 'logi...</td>\n      <td>['shift', 'operator', 'arithmetic', 'logical',...</td>\n      <td>['c', 'binary', 'bit-manipulation', 'bit-shift']</td>\n      <td>['shift', 'operator', 'arithmetic', 'logical',...</td>\n      <td>are the shift operators (&lt;&lt;, &gt;&gt;) arithmetic or...</td>\n    </tr>\n    <tr>\n      <th>2008-08-11 10:27:22</th>\n      <td>815</td>\n      <td>576716</td>\n      <td>whenever i design a database, i always wonder ...</td>\n      <td>database, table and column naming conventions?</td>\n      <td>&lt;database&gt;&lt;database-design&gt;&lt;language-agnostic&gt;...</td>\n      <td>23</td>\n      <td>4</td>\n      <td>359</td>\n      <td>['whenever', 'design', 'database', 'always', '...</td>\n      <td>['database', 'table', 'column', 'naming', 'con...</td>\n      <td>['database', 'database-design', 'language-agno...</td>\n      <td>['database', 'table', 'column', 'naming', 'con...</td>\n      <td>database, table and column naming conventions?...</td>\n    </tr>\n    <tr>\n      <th>2008-08-11 11:57:17</th>\n      <td>110</td>\n      <td>238131</td>\n      <td>is this even a valid question? i have a .net w...</td>\n      <td>how do i enable msdtc on sql server?</td>\n      <td>&lt;sql-server&gt;&lt;msdtc&gt;</td>\n      <td>6</td>\n      <td>1</td>\n      <td>30</td>\n      <td>['even', 'valid', 'question', 'net', 'window',...</td>\n      <td>['enable', 'msdtc', 'sql', 'server']</td>\n      <td>['sql-server', 'msdtc']</td>\n      <td>['enable', 'msdtc', 'sql', 'server', 'even', '...</td>\n      <td>how do i enable msdtc on sql server? is this e...</td>\n    </tr>\n    <tr>\n      <th>2008-08-10 18:41:02</th>\n      <td>539</td>\n      <td>197771</td>\n      <td>what does the expression \"turing complete\" mea...</td>\n      <td>what is turing complete?</td>\n      <td>&lt;theory&gt;&lt;turing-machines&gt;&lt;turing-complete&gt;</td>\n      <td>15</td>\n      <td>1</td>\n      <td>178</td>\n      <td>['expression', 'turing', 'complete', 'mean', '...</td>\n      <td>['turing', 'complete']</td>\n      <td>['theory', 'turing-machines', 'turing-complete']</td>\n      <td>['turing', 'complete', 'expression', 'turing',...</td>\n      <td>what is turing complete? what does the express...</td>\n    </tr>\n  </tbody>\n</table>\n</div>",
      "text/plain": "                     Score  ViewCount  \\\nCreationDate                            \n2010-09-27 06:56:36    152      66955   \n2008-08-11 08:55:13    147     253229   \n2008-08-11 10:27:22    815     576716   \n2008-08-11 11:57:17    110     238131   \n2008-08-10 18:41:02    539     197771   \n\n                                                                  Body  \\\nCreationDate                                                             \n2010-09-27 06:56:36  i lately had the problem of creating add and e...   \n2008-08-11 08:55:13  in c, are the shift operators (<<,>>) arithmet...   \n2008-08-11 10:27:22  whenever i design a database, i always wonder ...   \n2008-08-11 11:57:17  is this even a valid question? i have a .net w...   \n2008-08-10 18:41:02  what does the expression \"turing complete\" mea...   \n\n                                                                 Title  \\\nCreationDate                                                             \n2010-09-27 06:56:36  good or bad practice for dialogs in wpf with m...   \n2008-08-11 08:55:13  are the shift operators (<<, >>) arithmetic or...   \n2008-08-11 10:27:22     database, table and column naming conventions?   \n2008-08-11 11:57:17               how do i enable msdtc on sql server?   \n2008-08-10 18:41:02                           what is turing complete?   \n\n                                                                  Tags  \\\nCreationDate                                                             \n2010-09-27 06:56:36                <c#><.net><wpf><mvvm><modal-dialog>   \n2008-08-11 08:55:13           <c><binary><bit-manipulation><bit-shift>   \n2008-08-11 10:27:22  <database><database-design><language-agnostic>...   \n2008-08-11 11:57:17                                <sql-server><msdtc>   \n2008-08-10 18:41:02         <theory><turing-machines><turing-complete>   \n\n                     AnswerCount  CommentCount  FavoriteCount  \\\nCreationDate                                                    \n2010-09-27 06:56:36            3            12            115   \n2008-08-11 08:55:13           11             1             60   \n2008-08-11 10:27:22           23             4            359   \n2008-08-11 11:57:17            6             1             30   \n2008-08-10 18:41:02           15             1            178   \n\n                                                              Body_tok  \\\nCreationDate                                                             \n2010-09-27 06:56:36  ['lately', 'problem', 'creating', 'add', 'edit...   \n2008-08-11 08:55:13  ['c', 'shift', 'operator', 'arithmetic', 'logi...   \n2008-08-11 10:27:22  ['whenever', 'design', 'database', 'always', '...   \n2008-08-11 11:57:17  ['even', 'valid', 'question', 'net', 'window',...   \n2008-08-10 18:41:02  ['expression', 'turing', 'complete', 'mean', '...   \n\n                                                             Title_tok  \\\nCreationDate                                                             \n2010-09-27 06:56:36  ['good', 'bad', 'practice', 'dialog', 'wpf', '...   \n2008-08-11 08:55:13  ['shift', 'operator', 'arithmetic', 'logical',...   \n2008-08-11 10:27:22  ['database', 'table', 'column', 'naming', 'con...   \n2008-08-11 11:57:17               ['enable', 'msdtc', 'sql', 'server']   \n2008-08-10 18:41:02                             ['turing', 'complete']   \n\n                                                              Tags_tok  \\\nCreationDate                                                             \n2010-09-27 06:56:36      ['c#', '.net', 'wpf', 'mvvm', 'modal-dialog']   \n2008-08-11 08:55:13   ['c', 'binary', 'bit-manipulation', 'bit-shift']   \n2008-08-11 10:27:22  ['database', 'database-design', 'language-agno...   \n2008-08-11 11:57:17                            ['sql-server', 'msdtc']   \n2008-08-10 18:41:02   ['theory', 'turing-machines', 'turing-complete']   \n\n                                                              Text_tok  \\\nCreationDate                                                             \n2010-09-27 06:56:36  ['good', 'bad', 'practice', 'dialog', 'wpf', '...   \n2008-08-11 08:55:13  ['shift', 'operator', 'arithmetic', 'logical',...   \n2008-08-11 10:27:22  ['database', 'table', 'column', 'naming', 'con...   \n2008-08-11 11:57:17  ['enable', 'msdtc', 'sql', 'server', 'even', '...   \n2008-08-10 18:41:02  ['turing', 'complete', 'expression', 'turing',...   \n\n                                                                  Text  \nCreationDate                                                            \n2010-09-27 06:56:36  good or bad practice for dialogs in wpf with m...  \n2008-08-11 08:55:13  are the shift operators (<<, >>) arithmetic or...  \n2008-08-11 10:27:22  database, table and column naming conventions?...  \n2008-08-11 11:57:17  how do i enable msdtc on sql server? is this e...  \n2008-08-10 18:41:02  what is turing complete? what does the express...  "
     },
     "execution_count": 4,
     "metadata": {},
     "output_type": "execute_result"
    },
    {
     "data": {
      "text/plain": "(28077, 13)"
     },
     "execution_count": 4,
     "metadata": {},
     "output_type": "execute_result"
    }
   ],
   "source": [
    "df.head()\r\n",
    "df.shape"
   ]
  },
  {
   "cell_type": "markdown",
   "metadata": {},
   "source": [
    "Tf-idf"
   ]
  },
  {
   "cell_type": "code",
   "execution_count": 5,
   "metadata": {},
   "outputs": [],
   "source": [
    "from sklearn.feature_extraction.text import TfidfVectorizer"
   ]
  },
  {
   "cell_type": "code",
   "execution_count": 6,
   "metadata": {},
   "outputs": [],
   "source": [
    "vectorizer = TfidfVectorizer(lowercase=False)\r\n",
    "X = vectorizer.fit_transform(df['Text_tok'])"
   ]
  },
  {
   "cell_type": "code",
   "execution_count": 7,
   "metadata": {},
   "outputs": [
    {
     "data": {
      "text/plain": "CreationDate\n2010-09-27 06:56:36    ['good', 'bad', 'practice', 'dialog', 'wpf', '...\n2008-08-11 08:55:13    ['shift', 'operator', 'arithmetic', 'logical',...\n2008-08-11 10:27:22    ['database', 'table', 'column', 'naming', 'con...\n2008-08-11 11:57:17    ['enable', 'msdtc', 'sql', 'server', 'even', '...\n2008-08-10 18:41:02    ['turing', 'complete', 'expression', 'turing',...\n                                             ...                        \n2017-01-29 10:58:46    ['multiprocessing', 'use', 'tqdm', 'display', ...\n2017-01-30 03:16:39    ['cannot', 'appear', 'descendant', 'seeing', '...\n2017-01-30 03:56:48    ['parse', 'json', 'kotlin', 'receiving', 'quit...\n2017-01-30 14:47:03    ['download', 'file', 'using', 'axios', 'using'...\n2018-04-26 23:29:11    ['virtualbox', 'raw', 'mode', 'unavailable', '...\nName: Text_tok, Length: 28077, dtype: object"
     },
     "execution_count": 7,
     "metadata": {},
     "output_type": "execute_result"
    }
   ],
   "source": [
    "df['Text_tok']"
   ]
  },
  {
   "cell_type": "code",
   "execution_count": 8,
   "metadata": {},
   "outputs": [
    {
     "data": {
      "text/html": "<div>\n<style scoped>\n    .dataframe tbody tr th:only-of-type {\n        vertical-align: middle;\n    }\n\n    .dataframe tbody tr th {\n        vertical-align: top;\n    }\n\n    .dataframe thead th {\n        text-align: right;\n    }\n</style>\n<table border=\"1\" class=\"dataframe\">\n  <thead>\n    <tr style=\"text-align: right;\">\n      <th></th>\n      <th>good</th>\n      <th>bad</th>\n      <th>practice</th>\n      <th>dialog</th>\n      <th>wpf</th>\n      <th>mvvm</th>\n      <th>lately</th>\n      <th>problem</th>\n      <th>creating</th>\n      <th>add</th>\n      <th>...</th>\n      <th>implanted</th>\n      <th>validatedomnesting</th>\n      <th>someothercomponent</th>\n      <th>reacttooltip</th>\n      <th>ofsomecomponentandsomeothercomponent</th>\n      <th>reacttooltipfromreact</th>\n      <th>ofsomeothercomponent</th>\n      <th>rendersthis</th>\n      <th>supdrv</th>\n      <th>consolewrap</th>\n    </tr>\n  </thead>\n  <tbody>\n    <tr>\n      <th>0</th>\n      <td>0.0</td>\n      <td>0.0</td>\n      <td>0.0</td>\n      <td>0.0</td>\n      <td>0.0</td>\n      <td>0.0</td>\n      <td>0.0</td>\n      <td>0.0</td>\n      <td>0.0</td>\n      <td>0.0</td>\n      <td>...</td>\n      <td>0.0</td>\n      <td>0.0</td>\n      <td>0.0</td>\n      <td>0.0</td>\n      <td>0.0</td>\n      <td>0.0</td>\n      <td>0.0</td>\n      <td>0.0</td>\n      <td>0.0</td>\n      <td>0.0</td>\n    </tr>\n    <tr>\n      <th>1</th>\n      <td>0.0</td>\n      <td>0.0</td>\n      <td>0.0</td>\n      <td>0.0</td>\n      <td>0.0</td>\n      <td>0.0</td>\n      <td>0.0</td>\n      <td>0.0</td>\n      <td>0.0</td>\n      <td>0.0</td>\n      <td>...</td>\n      <td>0.0</td>\n      <td>0.0</td>\n      <td>0.0</td>\n      <td>0.0</td>\n      <td>0.0</td>\n      <td>0.0</td>\n      <td>0.0</td>\n      <td>0.0</td>\n      <td>0.0</td>\n      <td>0.0</td>\n    </tr>\n    <tr>\n      <th>2</th>\n      <td>0.0</td>\n      <td>0.0</td>\n      <td>0.0</td>\n      <td>0.0</td>\n      <td>0.0</td>\n      <td>0.0</td>\n      <td>0.0</td>\n      <td>0.0</td>\n      <td>0.0</td>\n      <td>0.0</td>\n      <td>...</td>\n      <td>0.0</td>\n      <td>0.0</td>\n      <td>0.0</td>\n      <td>0.0</td>\n      <td>0.0</td>\n      <td>0.0</td>\n      <td>0.0</td>\n      <td>0.0</td>\n      <td>0.0</td>\n      <td>0.0</td>\n    </tr>\n    <tr>\n      <th>3</th>\n      <td>0.0</td>\n      <td>0.0</td>\n      <td>0.0</td>\n      <td>0.0</td>\n      <td>0.0</td>\n      <td>0.0</td>\n      <td>0.0</td>\n      <td>0.0</td>\n      <td>0.0</td>\n      <td>0.0</td>\n      <td>...</td>\n      <td>0.0</td>\n      <td>0.0</td>\n      <td>0.0</td>\n      <td>0.0</td>\n      <td>0.0</td>\n      <td>0.0</td>\n      <td>0.0</td>\n      <td>0.0</td>\n      <td>0.0</td>\n      <td>0.0</td>\n    </tr>\n    <tr>\n      <th>4</th>\n      <td>0.0</td>\n      <td>0.0</td>\n      <td>0.0</td>\n      <td>0.0</td>\n      <td>0.0</td>\n      <td>0.0</td>\n      <td>0.0</td>\n      <td>0.0</td>\n      <td>0.0</td>\n      <td>0.0</td>\n      <td>...</td>\n      <td>0.0</td>\n      <td>0.0</td>\n      <td>0.0</td>\n      <td>0.0</td>\n      <td>0.0</td>\n      <td>0.0</td>\n      <td>0.0</td>\n      <td>0.0</td>\n      <td>0.0</td>\n      <td>0.0</td>\n    </tr>\n    <tr>\n      <th>...</th>\n      <td>...</td>\n      <td>...</td>\n      <td>...</td>\n      <td>...</td>\n      <td>...</td>\n      <td>...</td>\n      <td>...</td>\n      <td>...</td>\n      <td>...</td>\n      <td>...</td>\n      <td>...</td>\n      <td>...</td>\n      <td>...</td>\n      <td>...</td>\n      <td>...</td>\n      <td>...</td>\n      <td>...</td>\n      <td>...</td>\n      <td>...</td>\n      <td>...</td>\n      <td>...</td>\n    </tr>\n    <tr>\n      <th>28072</th>\n      <td>0.0</td>\n      <td>0.0</td>\n      <td>0.0</td>\n      <td>0.0</td>\n      <td>0.0</td>\n      <td>0.0</td>\n      <td>0.0</td>\n      <td>0.0</td>\n      <td>0.0</td>\n      <td>0.0</td>\n      <td>...</td>\n      <td>0.0</td>\n      <td>0.0</td>\n      <td>0.0</td>\n      <td>0.0</td>\n      <td>0.0</td>\n      <td>0.0</td>\n      <td>0.0</td>\n      <td>0.0</td>\n      <td>0.0</td>\n      <td>0.0</td>\n    </tr>\n    <tr>\n      <th>28073</th>\n      <td>0.0</td>\n      <td>0.0</td>\n      <td>0.0</td>\n      <td>0.0</td>\n      <td>0.0</td>\n      <td>0.0</td>\n      <td>0.0</td>\n      <td>0.0</td>\n      <td>0.0</td>\n      <td>0.0</td>\n      <td>...</td>\n      <td>0.0</td>\n      <td>0.0</td>\n      <td>0.0</td>\n      <td>0.0</td>\n      <td>0.0</td>\n      <td>0.0</td>\n      <td>0.0</td>\n      <td>0.0</td>\n      <td>0.0</td>\n      <td>0.0</td>\n    </tr>\n    <tr>\n      <th>28074</th>\n      <td>0.0</td>\n      <td>0.0</td>\n      <td>0.0</td>\n      <td>0.0</td>\n      <td>0.0</td>\n      <td>0.0</td>\n      <td>0.0</td>\n      <td>0.0</td>\n      <td>0.0</td>\n      <td>0.0</td>\n      <td>...</td>\n      <td>0.0</td>\n      <td>0.0</td>\n      <td>0.0</td>\n      <td>0.0</td>\n      <td>0.0</td>\n      <td>0.0</td>\n      <td>0.0</td>\n      <td>0.0</td>\n      <td>0.0</td>\n      <td>0.0</td>\n    </tr>\n    <tr>\n      <th>28075</th>\n      <td>0.0</td>\n      <td>0.0</td>\n      <td>0.0</td>\n      <td>0.0</td>\n      <td>0.0</td>\n      <td>0.0</td>\n      <td>0.0</td>\n      <td>0.0</td>\n      <td>0.0</td>\n      <td>0.0</td>\n      <td>...</td>\n      <td>0.0</td>\n      <td>0.0</td>\n      <td>0.0</td>\n      <td>0.0</td>\n      <td>0.0</td>\n      <td>0.0</td>\n      <td>0.0</td>\n      <td>0.0</td>\n      <td>0.0</td>\n      <td>0.0</td>\n    </tr>\n    <tr>\n      <th>28076</th>\n      <td>0.0</td>\n      <td>0.0</td>\n      <td>0.0</td>\n      <td>0.0</td>\n      <td>0.0</td>\n      <td>0.0</td>\n      <td>0.0</td>\n      <td>0.0</td>\n      <td>0.0</td>\n      <td>0.0</td>\n      <td>...</td>\n      <td>0.0</td>\n      <td>0.0</td>\n      <td>0.0</td>\n      <td>0.0</td>\n      <td>0.0</td>\n      <td>0.0</td>\n      <td>0.0</td>\n      <td>0.0</td>\n      <td>0.0</td>\n      <td>0.0</td>\n    </tr>\n  </tbody>\n</table>\n<p>28077 rows × 109390 columns</p>\n</div>",
      "text/plain": "       good  bad  practice  dialog  wpf  mvvm  lately  problem  creating  add  \\\n0       0.0  0.0       0.0     0.0  0.0   0.0     0.0      0.0       0.0  0.0   \n1       0.0  0.0       0.0     0.0  0.0   0.0     0.0      0.0       0.0  0.0   \n2       0.0  0.0       0.0     0.0  0.0   0.0     0.0      0.0       0.0  0.0   \n3       0.0  0.0       0.0     0.0  0.0   0.0     0.0      0.0       0.0  0.0   \n4       0.0  0.0       0.0     0.0  0.0   0.0     0.0      0.0       0.0  0.0   \n...     ...  ...       ...     ...  ...   ...     ...      ...       ...  ...   \n28072   0.0  0.0       0.0     0.0  0.0   0.0     0.0      0.0       0.0  0.0   \n28073   0.0  0.0       0.0     0.0  0.0   0.0     0.0      0.0       0.0  0.0   \n28074   0.0  0.0       0.0     0.0  0.0   0.0     0.0      0.0       0.0  0.0   \n28075   0.0  0.0       0.0     0.0  0.0   0.0     0.0      0.0       0.0  0.0   \n28076   0.0  0.0       0.0     0.0  0.0   0.0     0.0      0.0       0.0  0.0   \n\n       ...  implanted  validatedomnesting  someothercomponent  reacttooltip  \\\n0      ...        0.0                 0.0                 0.0           0.0   \n1      ...        0.0                 0.0                 0.0           0.0   \n2      ...        0.0                 0.0                 0.0           0.0   \n3      ...        0.0                 0.0                 0.0           0.0   \n4      ...        0.0                 0.0                 0.0           0.0   \n...    ...        ...                 ...                 ...           ...   \n28072  ...        0.0                 0.0                 0.0           0.0   \n28073  ...        0.0                 0.0                 0.0           0.0   \n28074  ...        0.0                 0.0                 0.0           0.0   \n28075  ...        0.0                 0.0                 0.0           0.0   \n28076  ...        0.0                 0.0                 0.0           0.0   \n\n       ofsomecomponentandsomeothercomponent  reacttooltipfromreact  \\\n0                                       0.0                    0.0   \n1                                       0.0                    0.0   \n2                                       0.0                    0.0   \n3                                       0.0                    0.0   \n4                                       0.0                    0.0   \n...                                     ...                    ...   \n28072                                   0.0                    0.0   \n28073                                   0.0                    0.0   \n28074                                   0.0                    0.0   \n28075                                   0.0                    0.0   \n28076                                   0.0                    0.0   \n\n       ofsomeothercomponent  rendersthis  supdrv  consolewrap  \n0                       0.0          0.0     0.0          0.0  \n1                       0.0          0.0     0.0          0.0  \n2                       0.0          0.0     0.0          0.0  \n3                       0.0          0.0     0.0          0.0  \n4                       0.0          0.0     0.0          0.0  \n...                     ...          ...     ...          ...  \n28072                   0.0          0.0     0.0          0.0  \n28073                   0.0          0.0     0.0          0.0  \n28074                   0.0          0.0     0.0          0.0  \n28075                   0.0          0.0     0.0          0.0  \n28076                   0.0          0.0     0.0          0.0  \n\n[28077 rows x 109390 columns]"
     },
     "execution_count": 8,
     "metadata": {},
     "output_type": "execute_result"
    }
   ],
   "source": [
    "# vectorizer.get_feature_names()\r\n",
    "pd.DataFrame(X.todense(), columns=vectorizer.vocabulary_)"
   ]
  },
  {
   "cell_type": "markdown",
   "metadata": {},
   "source": [
    "Split"
   ]
  },
  {
   "cell_type": "code",
   "execution_count": 9,
   "metadata": {},
   "outputs": [],
   "source": [
    "from sklearn.model_selection import train_test_split"
   ]
  },
  {
   "cell_type": "code",
   "execution_count": 10,
   "metadata": {},
   "outputs": [],
   "source": [
    "X_train, X_test, y_train, y_test = train_test_split(df['Text_tok'], df['Tags_tok'], test_size=0.3, random_state=42)"
   ]
  },
  {
   "cell_type": "code",
   "execution_count": null,
   "metadata": {},
   "outputs": [],
   "source": []
  }
 ],
 "metadata": {
  "interpreter": {
   "hash": "5594ac13a64e2174d726a1d0fdcbb64a3f91b0663c1999d89a89d2456ad9a960"
  },
  "kernelspec": {
   "display_name": "Python 3.9.4 64-bit ('env_p5': conda)",
   "name": "python3"
  },
  "language_info": {
   "codemirror_mode": {
    "name": "ipython",
    "version": 3
   },
   "file_extension": ".py",
   "mimetype": "text/x-python",
   "name": "python",
   "nbconvert_exporter": "python",
   "pygments_lexer": "ipython3",
   "version": "3.9.4"
  },
  "orig_nbformat": 3
 },
 "nbformat": 4,
 "nbformat_minor": 5
}