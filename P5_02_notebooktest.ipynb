{
 "cells": [
  {
   "cell_type": "markdown",
   "metadata": {},
   "source": [
    "# Questions\r\n",
    "\r\n",
    "\r\n",
    "\r\n",
    "<img src=\"img/14858512893477_so-logo.png\" width=\"600px\">    \r\n",
    "\r\n",
    "<h1 style=\"font-family:verdana;font-size:300%;text-align:left;\">Catégorisez automatiquement des questions</h1>\r\n",
    "\r\n",
    "---\r\n",
    "<a id=\"top\"></a>\r\n",
    "<h1 style=\"font-family:verdana;font-size:300%;text-align:left;\">Sommaire</h1>\r\n",
    "\r\n",
    "* [1. Process](#1)\r\n",
    "* [2. Mise en forme](#1)\r\n",
    "    * [2.1 Import](#2.1)\r\n",
    "    * [2.2 Bag of words](#2.2)\r\n",
    "    * [2.3 TF-IDF](#2.3) \r\n",
    "    * [2.4 Word2vec](#2.4)\r\n",
    "    * [2.5 Visualisation](#2.5) \r\n",
    "* [3. Approche non supervisée](#3)\r\n",
    "    * [3.1 LDA](#3.1) \r\n",
    "    * [3.2 NMF](#3.2)\r\n",
    "* [4. Approche supervisée](#4)\r\n",
    "    * [4.1 Doc2vec](#4.1) \r\n",
    "    * \r\n",
    "\r\n",
    "BERT avec  librairie DistilBert \r\n",
    "\r\n",
    "Pour résumer, LDA et NMF transforment ta matrice documents / mots (obtenue avec bag of words ou TF-IDF) en 2 matrices documents / sujets et sujets / mots.  \r\n",
    " Ta matrice initiale aura beaucoup de features (tous tes mots de tous tes textes). Ta matrice documents / sujets aura n features, où n est le nombre de topics (sujets) que tu auras déterminé pour ton algo LDA ou NMF.  \r\n",
    "  Tu auras donc fait une réduction de dimension. Les algo de réduction de dimension (PCA, TSNE, etc.) sont non supervisés. Il en va de même pour LDA et NMF.  \r\n",
    "\r\n",
    "Ensuite, tu as plusieurs possibilités. Si tu obtiens des topics interprétables en terme de tags, tu peux assigner le ou les topics en fonction des résultats de la matrice documents / sujets (non supervisé pur).  \r\n",
    " Sinon, tu peux intégrer LDA ou NMF dans un flux supervisé pour réduire les dimensions (on va dire semi-supervisé ou supervisé avec réduction de dimension).  \r\n",
    " Et peut-être que tu auras de meilleurs résulta ts sans LDA ou NMF (supervisé pur, sans réduction de dimension).\r\n",
    "\r\n",
    "\r\n",
    "J'ai pas eu trop trop de succès avec les word_embdeddings de type Word2Vec (je me base sur la métrique \"v_measure\" pour mesurer la correspondance entre mes 7 clusters et les 7 catégories initiales de mes données), donc je me demandais si ça avait des chances de donner de bons résultats.\r\n",
    "J'avais utilisé doc2vec , avec plutôt de bons résultats\r\n",
    "\r\n",
    "tester plusieurs modèles simples (5 ou 7, pas de RF et autres modèles consommateur).\r\n",
    "Et ça passais du coup parce que j'utilise que des modèles simples (RF + OVR, c'était même pas la peine d'y penser...).\r\n",
    "\r\n",
    "pour évaluer Jaccard\r\n",
    "\r\n",
    "Une régression logistique en OVR "
   ]
  },
  {
   "cell_type": "markdown",
   "metadata": {},
   "source": []
  },
  {
   "cell_type": "code",
   "execution_count": 7,
   "metadata": {},
   "outputs": [],
   "source": [
    "%matplotlib inline\r\n",
    "\r\n",
    "# Generic librairies\r\n",
    "import numpy as np\r\n",
    "import pandas as pd\r\n",
    "import matplotlib.pyplot as plt\r\n",
    "import seaborn as sns\r\n",
    "from IPython.display import display, HTML\r\n",
    "from IPython.core.interactiveshell import InteractiveShell\r\n",
    "\r\n",
    "# ML librairies\r\n",
    "from gensim import corpora, models, similarities\r\n",
    "from sklearn import metrics, decomposition, multiclass\r\n",
    "\r\n",
    "\r\n",
    "# API, model management\r\n",
    "from flask import Flask\r\n",
    "import joblib # to save and load the model\r\n",
    "\r\n",
    "# pd.set_option('display.max_column', 100)\r\n",
    "\r\n",
    "# Activate multi output\r\n",
    "InteractiveShell.ast_node_interactivity = \"all\"\r\n",
    "\r\n",
    "# # For jupyter NB users \r\n",
    "# # set size of window\r\n",
    "# display(HTML(data=\"\"\"\r\n",
    "# <style>\r\n",
    "#     div#notebook-container    { width: 95%; }\r\n",
    "#     div#menubar-container     { width: 65%; }\r\n",
    "#     div#maintoolbar-container { width: 99%; }\r\n",
    "# </style>\r\n",
    "# \"\"\"))"
   ]
  },
  {
   "cell_type": "markdown",
   "metadata": {},
   "source": [
    "<a id=\"1\"></a>\r\n",
    "# 1. Process\r\n",
    "\r\n",
    "---\r\n"
   ]
  },
  {
   "cell_type": "markdown",
   "metadata": {},
   "source": [
    "\r\n",
    "Nous somme face à un problème de classification multi label.\r\n",
    "Nous cherchons pour chaque question à prédire un ou plusieurs tags.\r\n",
    "\r\n",
    "<img src=\"img/multi label class.png\" width=\"600px\">   \r\n",
    "\r\n",
    "Nous allons tout d'abord \r\n",
    "\r\n"
   ]
  },
  {
   "cell_type": "markdown",
   "metadata": {},
   "source": [
    "<a id=\"2\"></a>\r\n",
    "# 2 Mise en forme\r\n",
    "<a href=\"#top\" class=\"btn btn-primary btn-sm\" role=\"button\" aria-pressed=\"true\" style=\"color:white\" data-toggle=\"popover\">Sommaire</a>\r\n",
    "\r\n",
    "---"
   ]
  },
  {
   "cell_type": "markdown",
   "metadata": {},
   "source": [
    "<a id=\"2.1\"></a>\r\n",
    "## 2.1 Import\r\n",
    "\r\n",
    "Importons notre dataset et placons le dans un pandas dataframe.  \r\n",
    "Nous utiliserons les dates comme index."
   ]
  },
  {
   "cell_type": "code",
   "execution_count": 8,
   "metadata": {},
   "outputs": [],
   "source": [
    "file = \"data/data_clean.csv\"\r\n",
    "df_raw = pd.read_csv(file, index_col='CreationDate', parse_dates=True)"
   ]
  },
  {
   "cell_type": "code",
   "execution_count": 9,
   "metadata": {},
   "outputs": [
    {
     "data": {
      "text/html": [
       "<div>\n",
       "<style scoped>\n",
       "    .dataframe tbody tr th:only-of-type {\n",
       "        vertical-align: middle;\n",
       "    }\n",
       "\n",
       "    .dataframe tbody tr th {\n",
       "        vertical-align: top;\n",
       "    }\n",
       "\n",
       "    .dataframe thead th {\n",
       "        text-align: right;\n",
       "    }\n",
       "</style>\n",
       "<table border=\"1\" class=\"dataframe\">\n",
       "  <thead>\n",
       "    <tr style=\"text-align: right;\">\n",
       "      <th></th>\n",
       "      <th>Score</th>\n",
       "      <th>ViewCount</th>\n",
       "      <th>Body</th>\n",
       "      <th>Title</th>\n",
       "      <th>Tags</th>\n",
       "      <th>AnswerCount</th>\n",
       "      <th>CommentCount</th>\n",
       "      <th>FavoriteCount</th>\n",
       "      <th>Body_tok</th>\n",
       "      <th>Title_tok</th>\n",
       "      <th>Tags_tok</th>\n",
       "      <th>Text_tok</th>\n",
       "      <th>Text</th>\n",
       "    </tr>\n",
       "    <tr>\n",
       "      <th>CreationDate</th>\n",
       "      <th></th>\n",
       "      <th></th>\n",
       "      <th></th>\n",
       "      <th></th>\n",
       "      <th></th>\n",
       "      <th></th>\n",
       "      <th></th>\n",
       "      <th></th>\n",
       "      <th></th>\n",
       "      <th></th>\n",
       "      <th></th>\n",
       "      <th></th>\n",
       "      <th></th>\n",
       "    </tr>\n",
       "  </thead>\n",
       "  <tbody>\n",
       "    <tr>\n",
       "      <th>2010-09-27 06:56:36</th>\n",
       "      <td>152</td>\n",
       "      <td>66955</td>\n",
       "      <td>i lately had the problem of creating add and e...</td>\n",
       "      <td>good or bad practice for dialogs in wpf with m...</td>\n",
       "      <td>&lt;c#&gt;&lt;.net&gt;&lt;wpf&gt;&lt;mvvm&gt;&lt;modal-dialog&gt;</td>\n",
       "      <td>3</td>\n",
       "      <td>12</td>\n",
       "      <td>115</td>\n",
       "      <td>['lately', 'problem', 'creating', 'add', 'edit...</td>\n",
       "      <td>['good', 'bad', 'practice', 'dialog', 'wpf', '...</td>\n",
       "      <td>['c#', '.net', 'wpf', 'mvvm', 'modal', 'dialog']</td>\n",
       "      <td>['good', 'bad', 'practice', 'dialog', 'wpf', '...</td>\n",
       "      <td>good or bad practice for dialogs in wpf with m...</td>\n",
       "    </tr>\n",
       "    <tr>\n",
       "      <th>2008-08-11 08:55:13</th>\n",
       "      <td>147</td>\n",
       "      <td>253229</td>\n",
       "      <td>in c, are the shift operators (&lt;&lt;,&gt;&gt;) arithmet...</td>\n",
       "      <td>are the shift operators (&lt;&lt;, &gt;&gt;) arithmetic or...</td>\n",
       "      <td>&lt;c&gt;&lt;binary&gt;&lt;bit-manipulation&gt;&lt;bit-shift&gt;</td>\n",
       "      <td>11</td>\n",
       "      <td>1</td>\n",
       "      <td>60</td>\n",
       "      <td>['c', 'shift', 'operator', 'arithmetic', 'logi...</td>\n",
       "      <td>['shift', 'operator', 'arithmetic', 'logical',...</td>\n",
       "      <td>['c', 'binary', 'bit', 'manipulation', 'bit', ...</td>\n",
       "      <td>['shift', 'operator', 'arithmetic', 'logical',...</td>\n",
       "      <td>are the shift operators (&lt;&lt;, &gt;&gt;) arithmetic or...</td>\n",
       "    </tr>\n",
       "    <tr>\n",
       "      <th>2008-08-11 10:27:22</th>\n",
       "      <td>815</td>\n",
       "      <td>576716</td>\n",
       "      <td>whenever i design a database, i always wonder ...</td>\n",
       "      <td>database, table and column naming conventions?</td>\n",
       "      <td>&lt;database&gt;&lt;database-design&gt;&lt;language-agnostic&gt;...</td>\n",
       "      <td>23</td>\n",
       "      <td>4</td>\n",
       "      <td>359</td>\n",
       "      <td>['whenever', 'design', 'database', 'always', '...</td>\n",
       "      <td>['database', 'table', 'column', 'naming', 'con...</td>\n",
       "      <td>['database', 'database', 'design', 'language',...</td>\n",
       "      <td>['database', 'table', 'column', 'naming', 'con...</td>\n",
       "      <td>database, table and column naming conventions?...</td>\n",
       "    </tr>\n",
       "    <tr>\n",
       "      <th>2008-08-11 11:57:17</th>\n",
       "      <td>110</td>\n",
       "      <td>238131</td>\n",
       "      <td>is this even a valid question? i have a .net w...</td>\n",
       "      <td>how do i enable msdtc on sql server?</td>\n",
       "      <td>&lt;sql-server&gt;&lt;msdtc&gt;</td>\n",
       "      <td>6</td>\n",
       "      <td>1</td>\n",
       "      <td>30</td>\n",
       "      <td>['even', 'valid', 'question', '.net', 'window'...</td>\n",
       "      <td>['enable', 'sql', 'server']</td>\n",
       "      <td>['sql', 'server']</td>\n",
       "      <td>['enable', 'sql', 'server', 'even', 'valid', '...</td>\n",
       "      <td>how do i enable msdtc on sql server? is this e...</td>\n",
       "    </tr>\n",
       "    <tr>\n",
       "      <th>2008-08-10 18:41:02</th>\n",
       "      <td>539</td>\n",
       "      <td>197771</td>\n",
       "      <td>what does the expression \"turing complete\" mea...</td>\n",
       "      <td>what is turing complete?</td>\n",
       "      <td>&lt;theory&gt;&lt;turing-machines&gt;&lt;turing-complete&gt;</td>\n",
       "      <td>15</td>\n",
       "      <td>1</td>\n",
       "      <td>178</td>\n",
       "      <td>['expression', 'complete', 'mean', 'give', 'si...</td>\n",
       "      <td>['complete']</td>\n",
       "      <td>['theory', 'machine', 'complete']</td>\n",
       "      <td>['complete', 'expression', 'complete', 'mean',...</td>\n",
       "      <td>what is turing complete? what does the express...</td>\n",
       "    </tr>\n",
       "  </tbody>\n",
       "</table>\n",
       "</div>"
      ],
      "text/plain": [
       "                     Score  ViewCount  \\\n",
       "CreationDate                            \n",
       "2010-09-27 06:56:36    152      66955   \n",
       "2008-08-11 08:55:13    147     253229   \n",
       "2008-08-11 10:27:22    815     576716   \n",
       "2008-08-11 11:57:17    110     238131   \n",
       "2008-08-10 18:41:02    539     197771   \n",
       "\n",
       "                                                                  Body  \\\n",
       "CreationDate                                                             \n",
       "2010-09-27 06:56:36  i lately had the problem of creating add and e...   \n",
       "2008-08-11 08:55:13  in c, are the shift operators (<<,>>) arithmet...   \n",
       "2008-08-11 10:27:22  whenever i design a database, i always wonder ...   \n",
       "2008-08-11 11:57:17  is this even a valid question? i have a .net w...   \n",
       "2008-08-10 18:41:02  what does the expression \"turing complete\" mea...   \n",
       "\n",
       "                                                                 Title  \\\n",
       "CreationDate                                                             \n",
       "2010-09-27 06:56:36  good or bad practice for dialogs in wpf with m...   \n",
       "2008-08-11 08:55:13  are the shift operators (<<, >>) arithmetic or...   \n",
       "2008-08-11 10:27:22     database, table and column naming conventions?   \n",
       "2008-08-11 11:57:17               how do i enable msdtc on sql server?   \n",
       "2008-08-10 18:41:02                           what is turing complete?   \n",
       "\n",
       "                                                                  Tags  \\\n",
       "CreationDate                                                             \n",
       "2010-09-27 06:56:36                <c#><.net><wpf><mvvm><modal-dialog>   \n",
       "2008-08-11 08:55:13           <c><binary><bit-manipulation><bit-shift>   \n",
       "2008-08-11 10:27:22  <database><database-design><language-agnostic>...   \n",
       "2008-08-11 11:57:17                                <sql-server><msdtc>   \n",
       "2008-08-10 18:41:02         <theory><turing-machines><turing-complete>   \n",
       "\n",
       "                     AnswerCount  CommentCount  FavoriteCount  \\\n",
       "CreationDate                                                    \n",
       "2010-09-27 06:56:36            3            12            115   \n",
       "2008-08-11 08:55:13           11             1             60   \n",
       "2008-08-11 10:27:22           23             4            359   \n",
       "2008-08-11 11:57:17            6             1             30   \n",
       "2008-08-10 18:41:02           15             1            178   \n",
       "\n",
       "                                                              Body_tok  \\\n",
       "CreationDate                                                             \n",
       "2010-09-27 06:56:36  ['lately', 'problem', 'creating', 'add', 'edit...   \n",
       "2008-08-11 08:55:13  ['c', 'shift', 'operator', 'arithmetic', 'logi...   \n",
       "2008-08-11 10:27:22  ['whenever', 'design', 'database', 'always', '...   \n",
       "2008-08-11 11:57:17  ['even', 'valid', 'question', '.net', 'window'...   \n",
       "2008-08-10 18:41:02  ['expression', 'complete', 'mean', 'give', 'si...   \n",
       "\n",
       "                                                             Title_tok  \\\n",
       "CreationDate                                                             \n",
       "2010-09-27 06:56:36  ['good', 'bad', 'practice', 'dialog', 'wpf', '...   \n",
       "2008-08-11 08:55:13  ['shift', 'operator', 'arithmetic', 'logical',...   \n",
       "2008-08-11 10:27:22  ['database', 'table', 'column', 'naming', 'con...   \n",
       "2008-08-11 11:57:17                        ['enable', 'sql', 'server']   \n",
       "2008-08-10 18:41:02                                       ['complete']   \n",
       "\n",
       "                                                              Tags_tok  \\\n",
       "CreationDate                                                             \n",
       "2010-09-27 06:56:36   ['c#', '.net', 'wpf', 'mvvm', 'modal', 'dialog']   \n",
       "2008-08-11 08:55:13  ['c', 'binary', 'bit', 'manipulation', 'bit', ...   \n",
       "2008-08-11 10:27:22  ['database', 'database', 'design', 'language',...   \n",
       "2008-08-11 11:57:17                                  ['sql', 'server']   \n",
       "2008-08-10 18:41:02                  ['theory', 'machine', 'complete']   \n",
       "\n",
       "                                                              Text_tok  \\\n",
       "CreationDate                                                             \n",
       "2010-09-27 06:56:36  ['good', 'bad', 'practice', 'dialog', 'wpf', '...   \n",
       "2008-08-11 08:55:13  ['shift', 'operator', 'arithmetic', 'logical',...   \n",
       "2008-08-11 10:27:22  ['database', 'table', 'column', 'naming', 'con...   \n",
       "2008-08-11 11:57:17  ['enable', 'sql', 'server', 'even', 'valid', '...   \n",
       "2008-08-10 18:41:02  ['complete', 'expression', 'complete', 'mean',...   \n",
       "\n",
       "                                                                  Text  \n",
       "CreationDate                                                            \n",
       "2010-09-27 06:56:36  good or bad practice for dialogs in wpf with m...  \n",
       "2008-08-11 08:55:13  are the shift operators (<<, >>) arithmetic or...  \n",
       "2008-08-11 10:27:22  database, table and column naming conventions?...  \n",
       "2008-08-11 11:57:17  how do i enable msdtc on sql server? is this e...  \n",
       "2008-08-10 18:41:02  what is turing complete? what does the express...  "
      ]
     },
     "execution_count": 9,
     "metadata": {},
     "output_type": "execute_result"
    },
    {
     "data": {
      "text/plain": [
       "(28077, 13)"
      ]
     },
     "execution_count": 9,
     "metadata": {},
     "output_type": "execute_result"
    },
    {
     "name": "stdout",
     "output_type": "stream",
     "text": [
      "<class 'pandas.core.frame.DataFrame'>\n",
      "DatetimeIndex: 28077 entries, 2010-09-27 06:56:36 to 2018-04-26 23:29:11\n",
      "Data columns (total 13 columns):\n",
      " #   Column         Non-Null Count  Dtype \n",
      "---  ------         --------------  ----- \n",
      " 0   Score          28077 non-null  int64 \n",
      " 1   ViewCount      28077 non-null  int64 \n",
      " 2   Body           28077 non-null  object\n",
      " 3   Title          28077 non-null  object\n",
      " 4   Tags           28077 non-null  object\n",
      " 5   AnswerCount    28077 non-null  int64 \n",
      " 6   CommentCount   28077 non-null  int64 \n",
      " 7   FavoriteCount  28077 non-null  int64 \n",
      " 8   Body_tok       28077 non-null  object\n",
      " 9   Title_tok      28077 non-null  object\n",
      " 10  Tags_tok       28077 non-null  object\n",
      " 11  Text_tok       28077 non-null  object\n",
      " 12  Text           28077 non-null  object\n",
      "dtypes: int64(5), object(8)\n",
      "memory usage: 3.0+ MB\n"
     ]
    }
   ],
   "source": [
    "df_raw.head()\r\n",
    "df_raw.shape\r\n",
    "df_raw.info()"
   ]
  },
  {
   "cell_type": "code",
   "execution_count": 10,
   "metadata": {},
   "outputs": [],
   "source": [
    "# we only keep the texts and the tags\r\n",
    "df = df_raw[[\"Text_tok\", \"Tags_tok\"]].copy()"
   ]
  },
  {
   "cell_type": "code",
   "execution_count": 11,
   "metadata": {},
   "outputs": [],
   "source": [
    "import ast\r\n",
    "\r\n",
    "# by default list are put in strings by pands, let's convert it to lists\r\n",
    "# ast.literal_eval il more secure than eval\r\n",
    "df[\"Text_tok\"] = df[\"Text_tok\"].apply(lambda x: ast.literal_eval(x))\r\n",
    "df[\"Tags_tok\"] = df[\"Tags_tok\"].apply(lambda x: ast.literal_eval(x))"
   ]
  },
  {
   "cell_type": "code",
   "execution_count": 12,
   "metadata": {},
   "outputs": [],
   "source": [
    "# we put the text into string form, usefull for vectorizers\r\n",
    "df['Text'] = df['Text_tok'].str.join(' ')\r\n",
    "df['Tags'] = df['Tags_tok'].str.join(' ')"
   ]
  },
  {
   "cell_type": "markdown",
   "metadata": {},
   "source": [
    "<a id=\"2.2\"></a>\r\n",
    "## 2.2 Bag of words\r\n",
    "\r\n",
    "Nous allons maintenant extraire l'information du texte pour pouvoir le traiter par des modèles de machine learning.\r\n",
    "\r\n",
    "Une représentation bag-of-words classique sera celle dans laquelle on représente chaque document par un vecteur de la taille du vocabulaire  |V|.  \r\n",
    "On utilisera la matrice composée de l’ensemble de ces N documents qui forment le corpus comme entrée de nos algorithmes."
   ]
  },
  {
   "cell_type": "code",
   "execution_count": 13,
   "metadata": {},
   "outputs": [
    {
     "name": "stdout",
     "output_type": "stream",
     "text": [
      "Dictionary(5286 unique tokens: ['.net', 'achieved', 'add', 'anything', 'anyways']...)\n"
     ]
    }
   ],
   "source": [
    "# we create a dictionnary of the uniques words of corpus\r\n",
    "# each word will have an unique id\r\n",
    "dictionary = corpora.Dictionary(df.Text_tok)\r\n",
    "print(dictionary)"
   ]
  },
  {
   "cell_type": "code",
   "execution_count": 14,
   "metadata": {},
   "outputs": [],
   "source": [
    "# bag of word (sparse matrix)\r\n",
    "# return a list of tuple\r\n",
    "# first entry in each tuple corresponds to the ID of the token in the dictionary\r\n",
    "# the second corresponds to the count of this token.\r\n",
    "bow_corpus = [dictionary.doc2bow(text) for text in df.Text_tok]"
   ]
  },
  {
   "cell_type": "code",
   "execution_count": 15,
   "metadata": {},
   "outputs": [
    {
     "data": {
      "text/plain": [
       "(208, 1)"
      ]
     },
     "execution_count": 15,
     "metadata": {},
     "output_type": "execute_result"
    }
   ],
   "source": [
    "# sample\r\n",
    "bow_corpus[10][10]"
   ]
  },
  {
   "cell_type": "markdown",
   "metadata": {},
   "source": [
    "<a id=\"2.3\"></a>\r\n",
    "## 2.3 TF-IDF\r\n",
    "\r\n",
    "Le modèle tf-idf transforme les vecteurs de la représentation bag of word (BOW) en vecteurs dont les fréquences ont pour poids la rareté relative de chaque mot du corpus.\r\n",
    "\r\n",
    ">La métrique tf-idf (Term-Frequency - Inverse Document Frequency) utilise comme indicateur de similarité l'inverse document frequency.  \r\n",
    ">Celui ci est est l'inverse de la proportion de document qui contient le terme, à l'échelle logarithmique.  \r\n",
    ">Il est appelé logiquement « inverse document frequency » (idf). "
   ]
  },
  {
   "cell_type": "code",
   "execution_count": 16,
   "metadata": {},
   "outputs": [],
   "source": [
    "# train the model\r\n",
    "model_tfidf = models.TfidfModel(bow_corpus)\r\n",
    "\r\n",
    "# transformation of the corpus\r\n",
    "tfidf_corpus = model_tfidf[bow_corpus]"
   ]
  },
  {
   "cell_type": "markdown",
   "metadata": {},
   "source": [
    "<a id=\"2.4\"></a>\r\n",
    "## 2.4 word2vec\r\n",
    "\r\n",
    "Nous allons étudier un modèle de vectorisation des données : Word2vec\r\n",
    "Dans l'architecture word2vec, les 2 algorithmes utilisés sont “continuous bag of words” (cbow) et “skip-gram” (sg).\r\n",
    "\r\n",
    "Nous allons entrainer un modèle puis tester les similarités entre les mots."
   ]
  },
  {
   "cell_type": "code",
   "execution_count": 17,
   "metadata": {},
   "outputs": [],
   "source": [
    "model_w2v = models.Word2Vec(sentences=df.Text_tok,\r\n",
    "window=5,\r\n",
    "min_count=5)"
   ]
  },
  {
   "cell_type": "code",
   "execution_count": 18,
   "metadata": {},
   "outputs": [
    {
     "data": {
      "text/plain": [
       "0.72615683"
      ]
     },
     "execution_count": 18,
     "metadata": {},
     "output_type": "execute_result"
    },
    {
     "data": {
      "text/plain": [
       "0.14436069"
      ]
     },
     "execution_count": 18,
     "metadata": {},
     "output_type": "execute_result"
    }
   ],
   "source": [
    "model_w2v.wv.similarity(\"numpy\", \"matplotlib\")\r\n",
    "model_w2v.wv.similarity(\"python\", \"sql\")"
   ]
  },
  {
   "cell_type": "markdown",
   "metadata": {},
   "source": [
    "On constate que certains termes sont plus \"proches\" les uns des autres que d'autres."
   ]
  },
  {
   "cell_type": "code",
   "execution_count": 19,
   "metadata": {},
   "outputs": [
    {
     "data": {
      "text/plain": [
       "[('scipy', 0.7485181093215942),\n",
       " ('setuptools', 0.614497184753418),\n",
       " ('matplotlib', 0.6133518218994141),\n",
       " ('opencv', 0.6077807545661926),\n",
       " ('panda', 0.5910912752151489),\n",
       " ('sklearn', 0.5838056802749634),\n",
       " ('distutils', 0.5668445825576782),\n",
       " ('ipython', 0.5612236857414246),\n",
       " ('pyplot', 0.5541019439697266),\n",
       " ('matlab', 0.5529869198799133)]"
      ]
     },
     "execution_count": 19,
     "metadata": {},
     "output_type": "execute_result"
    }
   ],
   "source": [
    "model_w2v.wv.most_similar(positive=['python', 'numpy', 'android'])"
   ]
  },
  {
   "cell_type": "markdown",
   "metadata": {},
   "source": [
    "On remarque également que pandas a été lemmatizé en panda."
   ]
  },
  {
   "cell_type": "code",
   "execution_count": 20,
   "metadata": {},
   "outputs": [
    {
     "data": {
      "text/plain": [
       "[('numpy', 0.31350595), ('import', 0.15711367), ('matplotlib', 0.072338685)]"
      ]
     },
     "execution_count": 20,
     "metadata": {},
     "output_type": "execute_result"
    }
   ],
   "source": [
    "model_w2v.predict_output_word(['python', 'numpy', 'matplotlib', 'android'], topn=3)"
   ]
  },
  {
   "cell_type": "markdown",
   "metadata": {},
   "source": [
    "La méthode prédict output word nous donne uniquement la distribution de probabilité du mot central compte tenu des mots de contexte.  \r\n",
    "Cela est une méthode \"brute\" de prédiction."
   ]
  },
  {
   "cell_type": "markdown",
   "metadata": {},
   "source": [
    "<a id=\"2.5\"></a>\r\n",
    "## 2.5 Visualisation"
   ]
  },
  {
   "cell_type": "code",
   "execution_count": 21,
   "metadata": {},
   "outputs": [
    {
     "data": {
      "image/png": "[encoded data removed]",
      "text/plain": [
       "<Figure size 864x864 with 1 Axes>"
      ]
     },
     "metadata": {
      "needs_background": "light"
     },
     "output_type": "display_data"
    }
   ],
   "source": [
    "from sklearn.decomposition import IncrementalPCA    # inital reduction\r\n",
    "from sklearn.manifold import TSNE                   # final reduction\r\n",
    "\r\n",
    "def reduce_dimensions(model):\r\n",
    "    num_dimensions = 2  # final num dimensions (2D, 3D, etc)\r\n",
    "\r\n",
    "    # extract the words & their vectors, as numpy arrays\r\n",
    "    vectors = np.asarray(model.wv.vectors)\r\n",
    "    labels = np.asarray(model.wv.index_to_key)  # fixed-width numpy strings\r\n",
    "\r\n",
    "    # reduce using t-SNE\r\n",
    "    tsne = TSNE(n_components=num_dimensions, random_state=0)\r\n",
    "    vectors = tsne.fit_transform(vectors)\r\n",
    "\r\n",
    "    x_vals = [v[0] for v in vectors]\r\n",
    "    y_vals = [v[1] for v in vectors]\r\n",
    "    return x_vals, y_vals, labels\r\n",
    "\r\n",
    "\r\n",
    "x_vals, y_vals, labels = reduce_dimensions(model_w2v)\r\n",
    "\r\n",
    "def plot_with_matplotlib(x_vals, y_vals, labels):\r\n",
    "    import matplotlib.pyplot as plt\r\n",
    "    import random\r\n",
    "\r\n",
    "    random.seed(0)\r\n",
    "\r\n",
    "    plt.figure(figsize=(12, 12))\r\n",
    "    plt.scatter(x_vals, y_vals, cmap='Spectral')\r\n",
    "\r\n",
    "    #\r\n",
    "    # Label randomly subsampled 25 data points\r\n",
    "    #\r\n",
    "    indices = list(range(len(labels)))\r\n",
    "    selected_indices = random.sample(indices, 25)\r\n",
    "    for i in selected_indices:\r\n",
    "        plt.annotate(labels[i], (x_vals[i], y_vals[i]))\r\n",
    "\r\n",
    "# plot_function(x_vals, y_vals, labels)\r\n",
    "\r\n",
    "plot_with_matplotlib(x_vals, y_vals, labels);"
   ]
  },
  {
   "cell_type": "markdown",
   "metadata": {},
   "source": [
    "<a id=\"3\"></a>\r\n",
    "# 3. Approche non supervisée\r\n",
    "<a href=\"#top\" class=\"btn btn-primary btn-sm\" role=\"button\" aria-pressed=\"true\" style=\"color:white\" data-toggle=\"popover\">Sommaire</a>\r\n",
    "\r\n",
    "---"
   ]
  },
  {
   "cell_type": "markdown",
   "metadata": {},
   "source": [
    "<a id=\"3.1\"></a>\r\n",
    "## 3.1 LDA\r\n",
    "\r\n",
    ">L’allocation de Dirichlet latente (Latent Dirichlet Allocation) ou LDA est un modèle génératif probabiliste  \r\n",
    ">permettant d’expliquer des ensembles d’observations, par le moyen de groupes non observés,  \r\n",
    ">eux-mêmes définis par des similarités de données.\r\n",
    "\r\n",
    "Option :\r\n",
    "* pyLDAvis"
   ]
  },
  {
   "cell_type": "code",
   "execution_count": 22,
   "metadata": {},
   "outputs": [],
   "source": [
    "from sklearn.model_selection import train_test_split\r\n",
    "\r\n",
    "X_lda_train, X_lda_test, y_lda_train, y_lda_test = train_test_split(\r\n",
    "    df['Text'], df['Tags'], test_size=0.2,train_size=0.8, random_state=42)"
   ]
  },
  {
   "cell_type": "code",
   "execution_count": 23,
   "metadata": {},
   "outputs": [],
   "source": [
    "from sklearn.feature_extraction.text import TfidfVectorizer\r\n",
    "\r\n",
    "# Sampling dataset\r\n",
    "vectorizer_tfidf = TfidfVectorizer(analyzer='word', min_df=0.0, max_df = 1.0, \r\n",
    "                                   strip_accents = None, encoding = 'utf-8', \r\n",
    "                                   preprocessor=None, \r\n",
    "                                   token_pattern=r\"(?u)\\S\\S+\", # Need to repeat token pattern\r\n",
    "                                   max_features=10000)\r\n",
    "\r\n",
    "# TF-IDF matrices\r\n",
    "X_tfidf_train = vectorizer_tfidf.fit_transform(X_lda_train)\r\n",
    "X_tfidf_test = vectorizer_tfidf.transform(X_lda_test)"
   ]
  },
  {
   "cell_type": "markdown",
   "metadata": {},
   "source": [
    "L(w) is the log-likelihood of the unseen documents w; the lower the perplexity, the better the model."
   ]
  },
  {
   "cell_type": "code",
   "execution_count": 24,
   "metadata": {},
   "outputs": [
    {
     "name": "stdout",
     "output_type": "stream",
     "text": [
      "Extracting term frequency features for LDA...\n"
     ]
    },
    {
     "data": {
      "image/png": "[encoded data removed]",
      "text/plain": [
       "<Figure size 432x288 with 1 Axes>"
      ]
     },
     "metadata": {
      "needs_background": "light"
     },
     "output_type": "display_data"
    }
   ],
   "source": [
    "from sklearn.decomposition import LatentDirichletAllocation\r\n",
    "\r\n",
    "def lda_perplexity(vectorizer, data_train, data_test):\r\n",
    "\r\n",
    "    ''' Showing the perplexity score for several LDA models with different values\r\n",
    "    for n_components parameter, and printing the top words for the best LDA model\r\n",
    "    (the one with the lowest perplexity)\r\n",
    "    Parameters:\r\n",
    "    vectorizer: TF-IDF convertizer                                              \r\n",
    "    data_train: data to fit the model with\r\n",
    "    data_test: data to test\r\n",
    "    '''\r\n",
    "\r\n",
    "    best_perplexity = np.inf\r\n",
    "    best_lda = 0\r\n",
    "    perplexity_list = []\r\n",
    "    n_topics_list = []\r\n",
    "    print(\"Extracting term frequency features for LDA...\")\r\n",
    "\r\n",
    "    for n_topics in np.linspace(10, 50, 5, dtype='int'):\r\n",
    "        lda_model = LatentDirichletAllocation(n_components=n_topics, max_iter=5,\r\n",
    "                                        learning_method='online',\r\n",
    "                                        learning_offset=50.,\r\n",
    "                                        random_state=0).fit(data_train)\r\n",
    "        n_topics_list.append(n_topics)\r\n",
    "        perplexity = lda_model.perplexity(data_test)\r\n",
    "        perplexity_list.append(perplexity)\r\n",
    "\r\n",
    "        # Perplexity is defined as exp(-1. * log-likelihood per word)\r\n",
    "        # Perplexity: The smaller the better\r\n",
    "        if perplexity <= best_perplexity:\r\n",
    "            best_perplexity = perplexity\r\n",
    "            best_lda = lda_model\r\n",
    "                                \r\n",
    "    plt.title(\"Evolution of perplexity score depending on number of topics\")\r\n",
    "    plt.xlabel(\"Number of topics\")\r\n",
    "    plt.ylabel(\"Perplexity\")\r\n",
    "    plt.plot(n_topics_list, perplexity_list)\r\n",
    "    plt.savefig('img/complexity.png', bbox_inches='tight')\r\n",
    "\r\n",
    "    plt.show()\r\n",
    "\r\n",
    "lda_perplexity(vectorizer_tfidf, X_tfidf_train, X_tfidf_test)"
   ]
  },
  {
   "cell_type": "markdown",
   "metadata": {},
   "source": [
    "The lowest perplexity score is for 10 topics, so we will learn the lda model with 10 topics."
   ]
  },
  {
   "cell_type": "code",
   "execution_count": 25,
   "metadata": {},
   "outputs": [],
   "source": [
    "n_topics = 10\r\n",
    "\r\n",
    "lda_model_tfidf = LatentDirichletAllocation(n_components=n_topics, max_iter=5,\r\n",
    "                                    learning_method='online',\r\n",
    "                                    learning_offset=50.,\r\n",
    "                                    random_state=0).fit(X_tfidf_train)\r\n",
    "\r\n",
    "feature_names = vectorizer_tfidf.get_feature_names()\r\n",
    "lda_components = lda_model_tfidf.components_ / lda_model_tfidf.components_.sum(axis=1)[:, np.newaxis] # normalization"
   ]
  },
  {
   "cell_type": "markdown",
   "metadata": {},
   "source": [
    "Entrainons également un modèle qui se base sur un Countvectorizer."
   ]
  },
  {
   "cell_type": "code",
   "execution_count": 26,
   "metadata": {},
   "outputs": [],
   "source": [
    "from sklearn.feature_extraction.text import CountVectorizer\r\n",
    "\r\n",
    "vectorizer_tf = CountVectorizer(max_features=10000)\r\n",
    "X_tf_train = vectorizer_tf.fit_transform(X_lda_train)\r\n",
    "\r\n",
    "n_topics = 10\r\n",
    "\r\n",
    "lda_model_tf = LatentDirichletAllocation(n_components=n_topics, max_iter=5,\r\n",
    "                                    learning_method='online',\r\n",
    "                                    learning_offset=50.,\r\n",
    "                                    random_state=0).fit(X_tf_train)"
   ]
  },
  {
   "cell_type": "code",
   "execution_count": 27,
   "metadata": {},
   "outputs": [],
   "source": [
    "def return_tag(text_test, vectorizer, model):\r\n",
    "\r\n",
    "    text_tfidf = vectorizer.transform(text_test)\r\n",
    "    text_projection = model.transform(text_tfidf)\r\n",
    "\r\n",
    "    threshold = 0.005 # defined after tests\r\n",
    "    list_scores = []\r\n",
    "    list_words = []\r\n",
    "    used = set()\r\n",
    "\r\n",
    "    lda_components = model.components_ / model.components_.sum(axis=1)[:, np.newaxis] # normalization\r\n",
    "    feature_names = vectorizer.get_feature_names()\r\n",
    "\r\n",
    "    for topic in range(n_topics):\r\n",
    "        topic_score = text_projection[0][topic]\r\n",
    "\r\n",
    "        for (word_idx, word_score) in zip(lda_components[topic].argsort()[:-5:-1], sorted(lda_components[topic])[:-5:-1]):\r\n",
    "            score = topic_score*word_score\r\n",
    "\r\n",
    "            if score >= threshold:\r\n",
    "                list_scores.append(score)\r\n",
    "                list_words.append(feature_names[word_idx])\r\n",
    "                used.add(feature_names[word_idx])\r\n",
    "\r\n",
    "    results = [tag for (y,tag) in sorted(zip(list_scores,list_words), key=lambda pair: pair[0], reverse=True)]\r\n",
    "    tags = \" \".join(results[:5])\r\n",
    "\r\n",
    "    return tags"
   ]
  },
  {
   "cell_type": "code",
   "execution_count": 28,
   "metadata": {},
   "outputs": [],
   "source": [
    "# a supprimer\r\n",
    "def average_jaccard(y_true,y_pred):\r\n",
    "\r\n",
    "    ''' It calculates Jaccard similarity coefficient score for each instance,and\r\n",
    "    it finds their average in percentage\r\n",
    "    Parameters:\r\n",
    "    y_true: truth labels\r\n",
    "    y_pred: predicted labels\r\n",
    "    '''\r\n",
    "    jacard = np.minimum(y_true,y_pred).sum(axis=1) / np.maximum(y_true,y_pred).sum(axis=1)\r\n",
    "    \r\n",
    "    return jacard.mean()*100"
   ]
  },
  {
   "cell_type": "code",
   "execution_count": 29,
   "metadata": {},
   "outputs": [
    {
     "data": {
      "text/plain": [
       "'string array value list'"
      ]
     },
     "execution_count": 29,
     "metadata": {},
     "output_type": "execute_result"
    },
    {
     "data": {
      "text/plain": [
       "'string value return object table'"
      ]
     },
     "execution_count": 29,
     "metadata": {},
     "output_type": "execute_result"
    },
    {
     "data": {
      "text/plain": [
       "'php array string'"
      ]
     },
     "execution_count": 29,
     "metadata": {},
     "output_type": "execute_result"
    }
   ],
   "source": [
    "text_test = [X_lda_test[0]]\r\n",
    "\r\n",
    "return_tag(text_test, vectorizer_tfidf, lda_model_tfidf)\r\n",
    "return_tag(text_test, vectorizer_tf, lda_model_tf)\r\n",
    "y_lda_test[0]"
   ]
  },
  {
   "cell_type": "markdown",
   "metadata": {},
   "source": [
    "## fastLDA a essayer"
   ]
  },
  {
   "cell_type": "markdown",
   "metadata": {},
   "source": [
    "<a id=\"3.2\"></a>\r\n",
    "## 3.2 NMF\r\n",
    "\r\n",
    "Negative Matrix Factorisation"
   ]
  },
  {
   "cell_type": "code",
   "execution_count": 30,
   "metadata": {},
   "outputs": [
    {
     "data": {
      "text/plain": [
       "NMF(alpha=0.1, init='nndsvd', l1_ratio=0.5, n_components=20, random_state=1)"
      ]
     },
     "execution_count": 30,
     "metadata": {},
     "output_type": "execute_result"
    }
   ],
   "source": [
    "from sklearn.decomposition import NMF\r\n",
    "\r\n",
    "# # NMF is able to use tf-idf\r\n",
    "# tfidf_vectorizer = TfidfVectorizer(max_df=0.95, \r\n",
    "#     min_df=2, \r\n",
    "#     max_features=no_features, \r\n",
    "#     stop_words='english')\r\n",
    "# tfidf = tfidf_vectorizer.fit_transform(documents)\r\n",
    "# tfidf_feature_names = tfidf_vectorizer.get_feature_names()\r\n",
    "\r\n",
    "# NMF is able to use tf-idf\r\n",
    "tfidf_vectorizer = TfidfVectorizer(\r\n",
    "    max_features=10000,\r\n",
    "    analyzer=lambda x: x, # disable the analyser as we already have tokens\r\n",
    "    stop_words='english')\r\n",
    "tfidf = tfidf_vectorizer.fit_transform(df.Text_tok)\r\n",
    "tfidf_feature_names = tfidf_vectorizer.get_feature_names()\r\n",
    "\r\n",
    "no_topics = 20\r\n",
    "\r\n",
    "# Run NMF\r\n",
    "nmf = NMF(n_components=no_topics,\r\n",
    "random_state=1,\r\n",
    "alpha=.1,\r\n",
    "l1_ratio=.5,\r\n",
    "init='nndsvd') # Nonnegative Double Singular Value Decomposition (NNDSVD) initialization (better for sparseness)\r\n",
    "\r\n",
    "nmf.fit(tfidf)"
   ]
  },
  {
   "cell_type": "code",
   "execution_count": 31,
   "metadata": {},
   "outputs": [],
   "source": [
    "def display_topics(model, feature_names, no_top_words):\r\n",
    "    for topic_idx, topic in enumerate(model.components_):\r\n",
    "        print(\"Topic {}:\".format(topic_idx))\r\n",
    "        print(\" \".join([feature_names[i] for i in topic.argsort()[:-no_top_words - 1:-1]]))\r\n",
    "\r\n",
    "no_top_words = 10"
   ]
  },
  {
   "cell_type": "code",
   "execution_count": 32,
   "metadata": {},
   "outputs": [
    {
     "name": "stdout",
     "output_type": "stream",
     "text": [
      "Topic 0:\n",
      "use would user error using code get like http application\n",
      "Topic 1:\n",
      "file directory folder path txt open filename name read want\n",
      "Topic 2:\n",
      "android layout id app activity view studio com parent width\n",
      "Topic 3:\n",
      "string character convert str split replace number way char hello\n",
      "Topic 4:\n",
      "git branch commit repository remote master push change github origin\n",
      "Topic 5:\n",
      "div px cs element text image width height html id\n",
      "Topic 6:\n",
      "table column sql mysql database row query data select id\n",
      "Topic 7:\n",
      "array element numpy arr var way javascript index php int\n",
      "Topic 8:\n",
      "class public method static int void test private foo name\n",
      "Topic 9:\n",
      "line command script bash text run window output vim echo\n",
      "Topic 10:\n",
      "list item element arraylist way index sort new would like\n",
      "Topic 11:\n",
      "function javascript return var jquery call script event alert php\n",
      "Topic 12:\n",
      "difference v use two one explain used ruby example understand\n",
      "Topic 13:\n",
      "date format time datetime day mm month current convert dd\n",
      "Topic 14:\n",
      "python py install package module print import pip self version\n",
      "Topic 15:\n",
      "object json javascript property var data name obj id type\n",
      "Topic 16:\n",
      "value key input type option name dictionary variable form field\n",
      "Topic 17:\n",
      "c int std char objective program pointer code compiler include\n",
      "Topic 18:\n",
      "java org lang jdk eclipse maven util apache integer jar\n",
      "Topic 19:\n",
      "node j module npm install script err error app require\n"
     ]
    }
   ],
   "source": [
    "display_topics(nmf, tfidf_feature_names, no_top_words)"
   ]
  },
  {
   "cell_type": "markdown",
   "metadata": {},
   "source": [
    "<a id=\"4\"></a>\r\n",
    "# 4. Approche supervisée\r\n",
    "<a href=\"#top\" class=\"btn btn-primary btn-sm\" role=\"button\" aria-pressed=\"true\" style=\"color:white\" data-toggle=\"popover\">Sommaire</a>\r\n",
    "\r\n",
    "---\r\n"
   ]
  },
  {
   "cell_type": "markdown",
   "metadata": {},
   "source": [
    "\r\n",
    "<a id=\"4.1\"></a>\r\n",
    "## 4.1 Doc2vec\r\n",
    "\r\n",
    "Les algorithmes utilisés dans l'architecture de doc2vec sont “distributed memory” (dm) et “distributed bag of words” (dbow).\r\n",
    "\r\n",
    "Pour ce plongement de mots il est nécessaire d'associé les tags au corpus.  \r\n",
    "Nous abordons donc une approche supervisée."
   ]
  },
  {
   "cell_type": "code",
   "execution_count": 33,
   "metadata": {},
   "outputs": [],
   "source": [
    "from sklearn.model_selection import train_test_split\r\n",
    "\r\n",
    "x_train, x_test, y_train, y_test = train_test_split(df[\"Text_tok\"], df['Tags_tok'], test_size=0.3, random_state=42)"
   ]
  },
  {
   "cell_type": "code",
   "execution_count": 34,
   "metadata": {},
   "outputs": [],
   "source": [
    "# we need to put our data in a specific form for doc2vec\r\n",
    "train_corpus = [models.doc2vec.TaggedDocument(doc, i) for doc, i in zip(x_train, y_train)]"
   ]
  },
  {
   "cell_type": "code",
   "execution_count": 35,
   "metadata": {},
   "outputs": [],
   "source": [
    "test_corpus = x_test.to_list()"
   ]
  },
  {
   "cell_type": "code",
   "execution_count": 36,
   "metadata": {},
   "outputs": [],
   "source": [
    "# instancing the model\r\n",
    "model_d2v = models.doc2vec.Doc2Vec(vector_size=50,\r\n",
    "min_count=2,\r\n",
    "epochs=40)"
   ]
  },
  {
   "cell_type": "code",
   "execution_count": 37,
   "metadata": {},
   "outputs": [],
   "source": [
    "model_d2v.build_vocab(train_corpus)"
   ]
  },
  {
   "cell_type": "code",
   "execution_count": 38,
   "metadata": {},
   "outputs": [
    {
     "name": "stdout",
     "output_type": "stream",
     "text": [
      "Word 'android' appeared 8627 times in the training corpus.\n"
     ]
    }
   ],
   "source": [
    "# sample\r\n",
    "print(f\"Word 'android' appeared {model_d2v.wv.get_vecattr('android', 'count')} times in the training corpus.\")\r\n"
   ]
  },
  {
   "cell_type": "code",
   "execution_count": 39,
   "metadata": {},
   "outputs": [],
   "source": [
    "model_d2v.train(train_corpus, total_examples=model_d2v.corpus_count, epochs=model_d2v.epochs)"
   ]
  },
  {
   "cell_type": "code",
   "execution_count": 40,
   "metadata": {},
   "outputs": [
    {
     "data": {
      "text/plain": [
       "['letter', 'xib']"
      ]
     },
     "execution_count": 40,
     "metadata": {},
     "output_type": "execute_result"
    },
    {
     "data": {
      "text/plain": [
       "['git', 'merge', 'git', 'merge']"
      ]
     },
     "execution_count": 40,
     "metadata": {},
     "output_type": "execute_result"
    },
    {
     "data": {
      "text/plain": [
       "['xib', 'letter']"
      ]
     },
     "execution_count": 40,
     "metadata": {},
     "output_type": "execute_result"
    },
    {
     "data": {
      "text/plain": [
       "['git', 'merge']"
      ]
     },
     "execution_count": 40,
     "metadata": {},
     "output_type": "execute_result"
    },
    {
     "data": {
      "text/plain": [
       "0.0"
      ]
     },
     "execution_count": 40,
     "metadata": {},
     "output_type": "execute_result"
    }
   ],
   "source": [
    "# a supprimer\r\n",
    "\r\n",
    "doc_id = 7\r\n",
    "inferred_vector = model_d2v.infer_vector(test_corpus[doc_id])\r\n",
    "sims = model_d2v.dv.most_similar([inferred_vector], topn=len(set(y_test[doc_id])))\r\n",
    "[w[0] for w in sims]\r\n",
    "y_test[doc_id]\r\n",
    "\r\n",
    "y_pred = list(set([w[0] for w in sims]))\r\n",
    "y_true = list(set(y_test[doc_id]))\r\n",
    "y_pred\r\n",
    "y_true\r\n",
    "metrics.jaccard_score(y_true, y_pred, average=\"weighted\")"
   ]
  },
  {
   "cell_type": "code",
   "execution_count": 41,
   "metadata": {},
   "outputs": [],
   "source": [
    "import warnings\r\n",
    "\r\n",
    "# I expect to see RuntimeWarnings in this block\r\n",
    "with warnings.catch_warnings():\r\n",
    "    warnings.simplefilter(\"ignore\", category=RuntimeWarning)\r\n",
    "\r\n",
    "    scores = []\r\n",
    "\r\n",
    "    for i in range(0, len(y_test)-1):\r\n",
    "        inferred_vector = model_d2v.infer_vector(test_corpus[i])\r\n",
    "        sims = model_d2v.dv.most_similar([inferred_vector], topn=len(set(y_test[i])))\r\n",
    "        # [w[0] for w in sims]\r\n",
    "        # y_test[i]\r\n",
    "\r\n",
    "        y_pred = sorted(set([w[0] for w in sims]))    \r\n",
    "        y_true = sorted(set(y_test[i]))\r\n",
    "        \r\n",
    "        scores.append(metrics.jaccard_score(y_true, y_pred, average=\"weighted\"))"
   ]
  },
  {
   "cell_type": "code",
   "execution_count": 42,
   "metadata": {},
   "outputs": [
    {
     "data": {
      "text/plain": [
       "11.361724485607215"
      ]
     },
     "execution_count": 42,
     "metadata": {},
     "output_type": "execute_result"
    }
   ],
   "source": [
    "from statistics import mean\r\n",
    "\r\n",
    "mean([s for s in scores if str(s) != 'nan'])*100"
   ]
  },
  {
   "cell_type": "markdown",
   "metadata": {},
   "source": [
    "<a id=\"4.2\"></a>\r\n",
    "## 4.2 SGD, Logistic regression, LinearSVC\r\n",
    "\r\n",
    "Nous allons maintenant entrainer les modèles SGD, Logistic regression, LinearSVC avec le classifieur One versus Rest.\r\n"
   ]
  },
  {
   "cell_type": "code",
   "execution_count": 43,
   "metadata": {},
   "outputs": [],
   "source": [
    "from sklearn.feature_extraction.text import TfidfVectorizer\r\n",
    "from sklearn.preprocessing import MultiLabelBinarizer\r\n",
    "from sklearn.model_selection import train_test_split\r\n",
    "\r\n",
    "from sklearn.linear_model import SGDClassifier\r\n",
    "from sklearn.linear_model import LogisticRegression\r\n",
    "from sklearn.svm import LinearSVC\r\n",
    "\r\n",
    "from sklearn.multiclass import OneVsRestClassifier"
   ]
  },
  {
   "cell_type": "code",
   "execution_count": 44,
   "metadata": {},
   "outputs": [
    {
     "data": {
      "text/plain": [
       "CreationDate\n",
       "2010-09-27 06:56:36                 [c#, .net, wpf, mvvm, modal, dialog]\n",
       "2008-08-11 08:55:13           [c, binary, bit, manipulation, bit, shift]\n",
       "2008-08-11 10:27:22    [database, database, design, language, naming,...\n",
       "2008-08-11 11:57:17                                        [sql, server]\n",
       "2008-08-10 18:41:02                          [theory, machine, complete]\n",
       "                                             ...                        \n",
       "2017-01-29 10:58:46             [python, multiprocessing, progress, bar]\n",
       "2017-01-30 03:16:39                                            [reactjs]\n",
       "2017-01-30 03:56:48                                 [java, json, kotlin]\n",
       "2017-01-30 14:47:03                                              [axios]\n",
       "2018-04-26 23:29:11                       [virtual, machine, virtualbox]\n",
       "Name: Tags_tok, Length: 28077, dtype: object"
      ]
     },
     "execution_count": 44,
     "metadata": {},
     "output_type": "execute_result"
    }
   ],
   "source": [
    "df['Tags_tok']"
   ]
  },
  {
   "cell_type": "code",
   "execution_count": 45,
   "metadata": {},
   "outputs": [
    {
     "data": {
      "text/plain": [
       "array([[1, 0, 0, ..., 0, 0, 0],\n",
       "       [0, 0, 0, ..., 0, 0, 0],\n",
       "       [0, 0, 0, ..., 0, 0, 0],\n",
       "       ...,\n",
       "       [0, 0, 0, ..., 0, 0, 0],\n",
       "       [0, 0, 0, ..., 0, 0, 0],\n",
       "       [0, 0, 0, ..., 0, 0, 0]])"
      ]
     },
     "execution_count": 45,
     "metadata": {},
     "output_type": "execute_result"
    }
   ],
   "source": [
    "multilabel = MultiLabelBinarizer()\r\n",
    "y = multilabel.fit_transform(df['Tags_tok'])\r\n",
    "y"
   ]
  },
  {
   "cell_type": "code",
   "execution_count": 46,
   "metadata": {},
   "outputs": [
    {
     "data": {
      "text/html": [
       "<div>\n",
       "<style scoped>\n",
       "    .dataframe tbody tr th:only-of-type {\n",
       "        vertical-align: middle;\n",
       "    }\n",
       "\n",
       "    .dataframe tbody tr th {\n",
       "        vertical-align: top;\n",
       "    }\n",
       "\n",
       "    .dataframe thead th {\n",
       "        text-align: right;\n",
       "    }\n",
       "</style>\n",
       "<table border=\"1\" class=\"dataframe\">\n",
       "  <thead>\n",
       "    <tr style=\"text-align: right;\">\n",
       "      <th></th>\n",
       "      <th>.net</th>\n",
       "      <th>4net</th>\n",
       "      <th>aapt</th>\n",
       "      <th>aar</th>\n",
       "      <th>abort</th>\n",
       "      <th>absolute</th>\n",
       "      <th>abstract</th>\n",
       "      <th>abstraction</th>\n",
       "      <th>access</th>\n",
       "      <th>accessor</th>\n",
       "      <th>...</th>\n",
       "      <th>year</th>\n",
       "      <th>yield</th>\n",
       "      <th>youtube</th>\n",
       "      <th>yum</th>\n",
       "      <th>zend</th>\n",
       "      <th>zero</th>\n",
       "      <th>zip</th>\n",
       "      <th>zoom</th>\n",
       "      <th>zsh</th>\n",
       "      <th>zurb</th>\n",
       "    </tr>\n",
       "  </thead>\n",
       "  <tbody>\n",
       "    <tr>\n",
       "      <th>0</th>\n",
       "      <td>1</td>\n",
       "      <td>0</td>\n",
       "      <td>0</td>\n",
       "      <td>0</td>\n",
       "      <td>0</td>\n",
       "      <td>0</td>\n",
       "      <td>0</td>\n",
       "      <td>0</td>\n",
       "      <td>0</td>\n",
       "      <td>0</td>\n",
       "      <td>...</td>\n",
       "      <td>0</td>\n",
       "      <td>0</td>\n",
       "      <td>0</td>\n",
       "      <td>0</td>\n",
       "      <td>0</td>\n",
       "      <td>0</td>\n",
       "      <td>0</td>\n",
       "      <td>0</td>\n",
       "      <td>0</td>\n",
       "      <td>0</td>\n",
       "    </tr>\n",
       "    <tr>\n",
       "      <th>1</th>\n",
       "      <td>0</td>\n",
       "      <td>0</td>\n",
       "      <td>0</td>\n",
       "      <td>0</td>\n",
       "      <td>0</td>\n",
       "      <td>0</td>\n",
       "      <td>0</td>\n",
       "      <td>0</td>\n",
       "      <td>0</td>\n",
       "      <td>0</td>\n",
       "      <td>...</td>\n",
       "      <td>0</td>\n",
       "      <td>0</td>\n",
       "      <td>0</td>\n",
       "      <td>0</td>\n",
       "      <td>0</td>\n",
       "      <td>0</td>\n",
       "      <td>0</td>\n",
       "      <td>0</td>\n",
       "      <td>0</td>\n",
       "      <td>0</td>\n",
       "    </tr>\n",
       "    <tr>\n",
       "      <th>2</th>\n",
       "      <td>0</td>\n",
       "      <td>0</td>\n",
       "      <td>0</td>\n",
       "      <td>0</td>\n",
       "      <td>0</td>\n",
       "      <td>0</td>\n",
       "      <td>0</td>\n",
       "      <td>0</td>\n",
       "      <td>0</td>\n",
       "      <td>0</td>\n",
       "      <td>...</td>\n",
       "      <td>0</td>\n",
       "      <td>0</td>\n",
       "      <td>0</td>\n",
       "      <td>0</td>\n",
       "      <td>0</td>\n",
       "      <td>0</td>\n",
       "      <td>0</td>\n",
       "      <td>0</td>\n",
       "      <td>0</td>\n",
       "      <td>0</td>\n",
       "    </tr>\n",
       "    <tr>\n",
       "      <th>3</th>\n",
       "      <td>0</td>\n",
       "      <td>0</td>\n",
       "      <td>0</td>\n",
       "      <td>0</td>\n",
       "      <td>0</td>\n",
       "      <td>0</td>\n",
       "      <td>0</td>\n",
       "      <td>0</td>\n",
       "      <td>0</td>\n",
       "      <td>0</td>\n",
       "      <td>...</td>\n",
       "      <td>0</td>\n",
       "      <td>0</td>\n",
       "      <td>0</td>\n",
       "      <td>0</td>\n",
       "      <td>0</td>\n",
       "      <td>0</td>\n",
       "      <td>0</td>\n",
       "      <td>0</td>\n",
       "      <td>0</td>\n",
       "      <td>0</td>\n",
       "    </tr>\n",
       "    <tr>\n",
       "      <th>4</th>\n",
       "      <td>0</td>\n",
       "      <td>0</td>\n",
       "      <td>0</td>\n",
       "      <td>0</td>\n",
       "      <td>0</td>\n",
       "      <td>0</td>\n",
       "      <td>0</td>\n",
       "      <td>0</td>\n",
       "      <td>0</td>\n",
       "      <td>0</td>\n",
       "      <td>...</td>\n",
       "      <td>0</td>\n",
       "      <td>0</td>\n",
       "      <td>0</td>\n",
       "      <td>0</td>\n",
       "      <td>0</td>\n",
       "      <td>0</td>\n",
       "      <td>0</td>\n",
       "      <td>0</td>\n",
       "      <td>0</td>\n",
       "      <td>0</td>\n",
       "    </tr>\n",
       "    <tr>\n",
       "      <th>...</th>\n",
       "      <td>...</td>\n",
       "      <td>...</td>\n",
       "      <td>...</td>\n",
       "      <td>...</td>\n",
       "      <td>...</td>\n",
       "      <td>...</td>\n",
       "      <td>...</td>\n",
       "      <td>...</td>\n",
       "      <td>...</td>\n",
       "      <td>...</td>\n",
       "      <td>...</td>\n",
       "      <td>...</td>\n",
       "      <td>...</td>\n",
       "      <td>...</td>\n",
       "      <td>...</td>\n",
       "      <td>...</td>\n",
       "      <td>...</td>\n",
       "      <td>...</td>\n",
       "      <td>...</td>\n",
       "      <td>...</td>\n",
       "      <td>...</td>\n",
       "    </tr>\n",
       "    <tr>\n",
       "      <th>28072</th>\n",
       "      <td>0</td>\n",
       "      <td>0</td>\n",
       "      <td>0</td>\n",
       "      <td>0</td>\n",
       "      <td>0</td>\n",
       "      <td>0</td>\n",
       "      <td>0</td>\n",
       "      <td>0</td>\n",
       "      <td>0</td>\n",
       "      <td>0</td>\n",
       "      <td>...</td>\n",
       "      <td>0</td>\n",
       "      <td>0</td>\n",
       "      <td>0</td>\n",
       "      <td>0</td>\n",
       "      <td>0</td>\n",
       "      <td>0</td>\n",
       "      <td>0</td>\n",
       "      <td>0</td>\n",
       "      <td>0</td>\n",
       "      <td>0</td>\n",
       "    </tr>\n",
       "    <tr>\n",
       "      <th>28073</th>\n",
       "      <td>0</td>\n",
       "      <td>0</td>\n",
       "      <td>0</td>\n",
       "      <td>0</td>\n",
       "      <td>0</td>\n",
       "      <td>0</td>\n",
       "      <td>0</td>\n",
       "      <td>0</td>\n",
       "      <td>0</td>\n",
       "      <td>0</td>\n",
       "      <td>...</td>\n",
       "      <td>0</td>\n",
       "      <td>0</td>\n",
       "      <td>0</td>\n",
       "      <td>0</td>\n",
       "      <td>0</td>\n",
       "      <td>0</td>\n",
       "      <td>0</td>\n",
       "      <td>0</td>\n",
       "      <td>0</td>\n",
       "      <td>0</td>\n",
       "    </tr>\n",
       "    <tr>\n",
       "      <th>28074</th>\n",
       "      <td>0</td>\n",
       "      <td>0</td>\n",
       "      <td>0</td>\n",
       "      <td>0</td>\n",
       "      <td>0</td>\n",
       "      <td>0</td>\n",
       "      <td>0</td>\n",
       "      <td>0</td>\n",
       "      <td>0</td>\n",
       "      <td>0</td>\n",
       "      <td>...</td>\n",
       "      <td>0</td>\n",
       "      <td>0</td>\n",
       "      <td>0</td>\n",
       "      <td>0</td>\n",
       "      <td>0</td>\n",
       "      <td>0</td>\n",
       "      <td>0</td>\n",
       "      <td>0</td>\n",
       "      <td>0</td>\n",
       "      <td>0</td>\n",
       "    </tr>\n",
       "    <tr>\n",
       "      <th>28075</th>\n",
       "      <td>0</td>\n",
       "      <td>0</td>\n",
       "      <td>0</td>\n",
       "      <td>0</td>\n",
       "      <td>0</td>\n",
       "      <td>0</td>\n",
       "      <td>0</td>\n",
       "      <td>0</td>\n",
       "      <td>0</td>\n",
       "      <td>0</td>\n",
       "      <td>...</td>\n",
       "      <td>0</td>\n",
       "      <td>0</td>\n",
       "      <td>0</td>\n",
       "      <td>0</td>\n",
       "      <td>0</td>\n",
       "      <td>0</td>\n",
       "      <td>0</td>\n",
       "      <td>0</td>\n",
       "      <td>0</td>\n",
       "      <td>0</td>\n",
       "    </tr>\n",
       "    <tr>\n",
       "      <th>28076</th>\n",
       "      <td>0</td>\n",
       "      <td>0</td>\n",
       "      <td>0</td>\n",
       "      <td>0</td>\n",
       "      <td>0</td>\n",
       "      <td>0</td>\n",
       "      <td>0</td>\n",
       "      <td>0</td>\n",
       "      <td>0</td>\n",
       "      <td>0</td>\n",
       "      <td>...</td>\n",
       "      <td>0</td>\n",
       "      <td>0</td>\n",
       "      <td>0</td>\n",
       "      <td>0</td>\n",
       "      <td>0</td>\n",
       "      <td>0</td>\n",
       "      <td>0</td>\n",
       "      <td>0</td>\n",
       "      <td>0</td>\n",
       "      <td>0</td>\n",
       "    </tr>\n",
       "  </tbody>\n",
       "</table>\n",
       "<p>28077 rows × 2834 columns</p>\n",
       "</div>"
      ],
      "text/plain": [
       "       .net  4net  aapt  aar  abort  absolute  abstract  abstraction  access  \\\n",
       "0         1     0     0    0      0         0         0            0       0   \n",
       "1         0     0     0    0      0         0         0            0       0   \n",
       "2         0     0     0    0      0         0         0            0       0   \n",
       "3         0     0     0    0      0         0         0            0       0   \n",
       "4         0     0     0    0      0         0         0            0       0   \n",
       "...     ...   ...   ...  ...    ...       ...       ...          ...     ...   \n",
       "28072     0     0     0    0      0         0         0            0       0   \n",
       "28073     0     0     0    0      0         0         0            0       0   \n",
       "28074     0     0     0    0      0         0         0            0       0   \n",
       "28075     0     0     0    0      0         0         0            0       0   \n",
       "28076     0     0     0    0      0         0         0            0       0   \n",
       "\n",
       "       accessor  ...  year  yield  youtube  yum  zend  zero  zip  zoom  zsh  \\\n",
       "0             0  ...     0      0        0    0     0     0    0     0    0   \n",
       "1             0  ...     0      0        0    0     0     0    0     0    0   \n",
       "2             0  ...     0      0        0    0     0     0    0     0    0   \n",
       "3             0  ...     0      0        0    0     0     0    0     0    0   \n",
       "4             0  ...     0      0        0    0     0     0    0     0    0   \n",
       "...         ...  ...   ...    ...      ...  ...   ...   ...  ...   ...  ...   \n",
       "28072         0  ...     0      0        0    0     0     0    0     0    0   \n",
       "28073         0  ...     0      0        0    0     0     0    0     0    0   \n",
       "28074         0  ...     0      0        0    0     0     0    0     0    0   \n",
       "28075         0  ...     0      0        0    0     0     0    0     0    0   \n",
       "28076         0  ...     0      0        0    0     0     0    0     0    0   \n",
       "\n",
       "       zurb  \n",
       "0         0  \n",
       "1         0  \n",
       "2         0  \n",
       "3         0  \n",
       "4         0  \n",
       "...     ...  \n",
       "28072     0  \n",
       "28073     0  \n",
       "28074     0  \n",
       "28075     0  \n",
       "28076     0  \n",
       "\n",
       "[28077 rows x 2834 columns]"
      ]
     },
     "execution_count": 46,
     "metadata": {},
     "output_type": "execute_result"
    }
   ],
   "source": [
    "ydf = pd.DataFrame(y, columns=multilabel.classes_)\r\n",
    "ydf"
   ]
  },
  {
   "cell_type": "markdown",
   "metadata": {},
   "source": [
    "Metrics for Multi-label classification\r\n",
    "\r\n",
    "\r\n",
    "**Multi-label classification** problems must be assessed using different performance measures than single-label classification problems. Two of the most common performance metrics are hamming loss and Jaccard similarity.\r\n",
    "\r\n",
    "**Hamming loss** is the average fraction of incorrect labels. Note that hamming loss is a loss function and that the perfect score is 0.\r\n",
    "\r\n",
    "where TP + TN + FP + FN =L(the total number of labels).\r\n",
    "\r\n",
    "**Jaccard similarity** or the Jaccard index, is the size of the intersection of the predicted labels and the true labels divided by the size of the union of the predicted and true labels. It ranges from 0 to 1, and 1 is the perfect score.\r\n"
   ]
  },
  {
   "cell_type": "code",
   "execution_count": 47,
   "metadata": {},
   "outputs": [],
   "source": [
    "tfidf = TfidfVectorizer(\r\n",
    "    analyzer='word',\r\n",
    "    max_features=10000)"
   ]
  },
  {
   "cell_type": "code",
   "execution_count": 48,
   "metadata": {},
   "outputs": [
    {
     "data": {
      "text/plain": [
       "((28077, 5261), (28077, 2834))"
      ]
     },
     "execution_count": 48,
     "metadata": {},
     "output_type": "execute_result"
    }
   ],
   "source": [
    "X = tfidf.fit_transform(df['Text'].values)\r\n",
    "X.shape, y.shape"
   ]
  },
  {
   "cell_type": "code",
   "execution_count": 49,
   "metadata": {},
   "outputs": [],
   "source": [
    "X_train, X_test, y_train, y_test = train_test_split(X, y, test_size=0.2, random_state=42)"
   ]
  },
  {
   "cell_type": "code",
   "execution_count": 50,
   "metadata": {},
   "outputs": [],
   "source": [
    "sgd = SGDClassifier()\r\n",
    "lr = LogisticRegression(solver='lbfgs')\r\n",
    "svc = LinearSVC()"
   ]
  },
  {
   "cell_type": "code",
   "execution_count": 51,
   "metadata": {},
   "outputs": [],
   "source": [
    "def j_score(y_true, y_pred):\r\n",
    "  jaccard = np.minimum(y_true, y_pred).sum(axis = 1)/np.maximum(y_true, y_pred).sum(axis = 1)\r\n",
    "  return jaccard.mean()*100\r\n",
    "\r\n",
    "\r\n",
    "def print_score(y_pred, clf):\r\n",
    "  print(\"Clf: \", clf.__class__.__name__)\r\n",
    "  print('Jaccard score: {}'.format(j_score(y_test, y_pred)))\r\n",
    "  print('----')\r\n",
    "\r\n",
    "def get_best_tags(clf, X, lb, n_tags=3):\r\n",
    "  decfun = clf.decision_function(X)\r\n",
    "  best_tags = np.argsort(decfun)[:, :-(n_tags+1): -1]\r\n",
    "  return lb.classes_[best_tags]"
   ]
  },
  {
   "cell_type": "code",
   "execution_count": 52,
   "metadata": {},
   "outputs": [
    {
     "data": {
      "text/plain": [
       "OneVsRestClassifier(estimator=SGDClassifier())"
      ]
     },
     "execution_count": 52,
     "metadata": {},
     "output_type": "execute_result"
    },
    {
     "name": "stdout",
     "output_type": "stream",
     "text": [
      "Clf:  SGDClassifier\n",
      "Jaccard score: 22.12153330208886\n",
      "----\n"
     ]
    },
    {
     "data": {
      "text/plain": [
       "OneVsRestClassifier(estimator=LogisticRegression())"
      ]
     },
     "execution_count": 52,
     "metadata": {},
     "output_type": "execute_result"
    },
    {
     "name": "stdout",
     "output_type": "stream",
     "text": [
      "Clf:  LogisticRegression\n",
      "Jaccard score: 17.28386582553249\n",
      "----\n"
     ]
    },
    {
     "data": {
      "text/plain": [
       "OneVsRestClassifier(estimator=LinearSVC())"
      ]
     },
     "execution_count": 52,
     "metadata": {},
     "output_type": "execute_result"
    },
    {
     "name": "stdout",
     "output_type": "stream",
     "text": [
      "Clf:  LinearSVC\n",
      "Jaccard score: 30.15535326299215\n",
      "----\n"
     ]
    }
   ],
   "source": [
    "import warnings\r\n",
    "\r\n",
    "# I expect to see RuntimeWarnings in this block\r\n",
    "with warnings.catch_warnings():\r\n",
    "    warnings.simplefilter(\"ignore\", category=UserWarning)\r\n",
    "\r\n",
    "    for classifier in [sgd, lr, svc]:\r\n",
    "      clf = OneVsRestClassifier(classifier)\r\n",
    "      clf.fit(X_train, y_train) \r\n",
    "      # y_pred = clf.predict(X_test)\r\n",
    "      best_tags = get_best_tags(clf, X_test, multilabel)\r\n",
    "      y_pred = multilabel.transform(best_tags)\r\n",
    "      print_score(y_pred, classifier)"
   ]
  },
  {
   "cell_type": "markdown",
   "metadata": {},
   "source": [
    "Nous choisirons un modèle LinearSVC pour estimer les tags d'une nouvelle question.  \r\n",
    "Tentons d'améliorer le score de Jaccard."
   ]
  },
  {
   "cell_type": "code",
   "execution_count": 60,
   "metadata": {},
   "outputs": [
    {
     "data": {
      "text/plain": [
       "OneVsRestClassifier(estimator=LinearSVC(C=1.5, dual=False, penalty='l1'))"
      ]
     },
     "execution_count": 60,
     "metadata": {},
     "output_type": "execute_result"
    },
    {
     "name": "stdout",
     "output_type": "stream",
     "text": [
      "Clf:  LinearSVC\n",
      "Jaccard score: 33.031707875457876\n",
      "----\n"
     ]
    }
   ],
   "source": [
    "svc = LinearSVC(C=1.5, penalty='l1', dual=False)\r\n",
    "\r\n",
    "with warnings.catch_warnings():\r\n",
    "    warnings.simplefilter(\"ignore\", category=UserWarning)\r\n",
    "\r\n",
    "    for classifier in [svc]:\r\n",
    "      clf_svc = OneVsRestClassifier(classifier)\r\n",
    "      clf_svc.fit(X_train, y_train) \r\n",
    "      best_tags = get_best_tags(clf_svc, X_test, multilabel)\r\n",
    "      y_pred = multilabel.transform(best_tags)\r\n",
    "      print_score(y_pred, classifier)"
   ]
  },
  {
   "cell_type": "code",
   "execution_count": 55,
   "metadata": {},
   "outputs": [],
   "source": [
    "x = [ 'how to write ml code in python and java i have data but do not know how to do it']"
   ]
  },
  {
   "cell_type": "code",
   "execution_count": 56,
   "metadata": {},
   "outputs": [
    {
     "data": {
      "text/plain": [
       "array([['file', 'python', 'handle']], dtype=object)"
      ]
     },
     "execution_count": 56,
     "metadata": {},
     "output_type": "execute_result"
    }
   ],
   "source": [
    "xt = tfidf.transform(x)\r\n",
    "get_best_tags(clf_svc, xt, multilabel)"
   ]
  },
  {
   "cell_type": "markdown",
   "metadata": {},
   "source": [
    "On peut jouer sur les paremètres de tfidf, par exemple ngram_range=(1, 2)"
   ]
  },
  {
   "cell_type": "markdown",
   "metadata": {},
   "source": [
    "<a id=\"5\"></a>\r\n",
    "# 5. Installation du modèle sur API\r\n",
    "<a href=\"#top\" class=\"btn btn-primary btn-sm\" role=\"button\" aria-pressed=\"true\" style=\"color:white\" data-toggle=\"popover\">Sommaire</a>\r\n",
    "\r\n",
    "---"
   ]
  },
  {
   "cell_type": "markdown",
   "metadata": {},
   "source": [
    "<a id=\"5.1\"></a>\r\n",
    "## 5.1 Dump"
   ]
  },
  {
   "cell_type": "code",
   "execution_count": 62,
   "metadata": {},
   "outputs": [
    {
     "data": {
      "text/plain": [
       "['models\\\\clf_svc.pkl']"
      ]
     },
     "execution_count": 62,
     "metadata": {},
     "output_type": "execute_result"
    },
    {
     "data": {
      "text/plain": [
       "['models\\\\multilabel.pkl']"
      ]
     },
     "execution_count": 62,
     "metadata": {},
     "output_type": "execute_result"
    },
    {
     "data": {
      "text/plain": [
       "['tfidf.pkl']"
      ]
     },
     "execution_count": 62,
     "metadata": {},
     "output_type": "execute_result"
    }
   ],
   "source": [
    "joblib.dump(clf_svc, \"models\\clf_svc.pkl\")\r\n",
    "joblib.dump(multilabel, \"models\\multilabel.pkl\")\r\n",
    "joblib.dump(tfidf, \"tfidf.pkl\")"
   ]
  },
  {
   "cell_type": "markdown",
   "metadata": {},
   "source": [
    "<a id=\"5.2\"></a>\r\n",
    "## 5.2 Création de la fonction et test"
   ]
  },
  {
   "cell_type": "code",
   "execution_count": 63,
   "metadata": {},
   "outputs": [],
   "source": [
    "import joblib\r\n",
    "\r\n",
    "def import_model():\r\n",
    "    model = joblib.load(\"models\\clf_svc.pkl\")\r\n",
    "    sw = joblib.load(\"models\\sw.pkl\")\r\n",
    "    lb = joblib.load(\"models\\multilabel.pkl\")\r\n",
    "    vectorizer_tfidf = joblib.load(\"tfidf.pkl\")"
   ]
  },
  {
   "cell_type": "code",
   "execution_count": 65,
   "metadata": {},
   "outputs": [],
   "source": [
    "\r\n",
    "import_model()"
   ]
  },
  {
   "cell_type": "code",
   "execution_count": null,
   "metadata": {},
   "outputs": [],
   "source": [
    "import numpy as np\r\n",
    "import pandas as pd\r\n",
    "from bs4 import BeautifulSoup\r\n",
    "import re\r\n",
    "import nltk\r\n",
    "# nltk.download('punkt')\r\n",
    "# nltk.download('stopwords')\r\n",
    "# nltk.download('wordnet')\r\n",
    "from nltk.corpus import stopwords\r\n",
    "import contractions\r\n",
    "\r\n",
    "def cleaner(text):\r\n",
    "    \"\"\"Remove Html tags, extra spaces, ; put in lowercase\"\"\"\r\n",
    "\r\n",
    "    text = BeautifulSoup(text, 'html.parser')\r\n",
    "    text = text.get_text(strip=True)\r\n",
    "    text = contractions.fix(text) # remove contractions 's => is...\r\n",
    "    text = re.sub(r\"\\n\", \" \", text) # match all literal Line Feed (New line) pattern then replace them by a single whitespace\r\n",
    "    text = re.sub(r'\\s+', ' ', text) # match all one or more whitespace then replace them by a single whitespace\r\n",
    "    text = text.lower()\r\n",
    "\r\n",
    "    return text\r\n",
    "\r\n",
    "def tokeniser(text):\r\n",
    "    return nltk.RegexpTokenizer(r'[a-zA-Z]{2,}|c#?|.net').tokenize(text)\r\n",
    "\r\n",
    "def remove_stopwords(list_of_words, sw=sw):\r\n",
    "    \"\"\"remove common words in english by using nltk.corpus's list\"\"\"\r\n",
    "\r\n",
    "    list_of_words = [w for w in list_of_words if not w in sw]\r\n",
    "    return list_of_words\r\n",
    "\r\n",
    "\r\n",
    "def lem_text(list_of_words):\r\n",
    "    \"\"\"Lemmatization of the text\"\"\"\r\n",
    "\r\n",
    "    lemmatizer = nltk.WordNetLemmatizer()\r\n",
    "    list_of_words = [lemmatizer.lemmatize(w) for w in list_of_words] # Lemmatize each words\r\n",
    "    return list_of_words"
   ]
  },
  {
   "cell_type": "code",
   "execution_count": null,
   "metadata": {},
   "outputs": [],
   "source": [
    "def text_treatment(input_txt):\r\n",
    "   txt = cleaner(input_txt)\r\n",
    "   txt = tokeniser(txt)\r\n",
    "   txt = remove_stopwords(txt)\r\n",
    "   txt = lem_text(txt)\r\n",
    "   # vectorizer needs a  list of strings\r\n",
    "   # it then tokenise it\r\n",
    "   txt = [' '.join(txt)] \r\n",
    "   return txt\r\n",
    "\r\n",
    "def vectorize(x):\r\n",
    "   return vectorizer_tfidf.transform(x)\r\n",
    "\r\n",
    "def get_best_tags(clf, X, lb, n_tags=3):\r\n",
    "    decfun = clf.decision_function(X)\r\n",
    "    best_tags = np.argsort(decfun)[:, :-(n_tags+1): -1]\r\n",
    "    return lb.classes_[best_tags]"
   ]
  },
  {
   "cell_type": "code",
   "execution_count": null,
   "metadata": {},
   "outputs": [
    {
     "data": {
      "text/plain": [
       "array([['python', 'java', 'env']], dtype=object)"
      ]
     },
     "execution_count": 88,
     "metadata": {},
     "output_type": "execute_result"
    }
   ],
   "source": [
    "def gettags(x):\r\n",
    "    x_clean = text_treatment(str(x))\r\n",
    "    x_vec = vectorize(x_clean)\r\n",
    "    return get_best_tags(model, x_vec, lb)\r\n",
    "\r\n",
    "gettags(x)"
   ]
  },
  {
   "cell_type": "code",
   "execution_count": null,
   "metadata": {},
   "outputs": [],
   "source": []
  }
 ],
 "metadata": {
  "interpreter": {
   "hash": "5594ac13a64e2174d726a1d0fdcbb64a3f91b0663c1999d89a89d2456ad9a960"
  },
  "kernelspec": {
   "display_name": "Python 3.9.4 64-bit ('env_p5': conda)",
   "name": "python3"
  },
  "language_info": {
   "codemirror_mode": {
    "name": "ipython",
    "version": 3
   },
   "file_extension": ".py",
   "mimetype": "text/x-python",
   "name": "python",
   "nbconvert_exporter": "python",
   "pygments_lexer": "ipython3",
   "version": "3.9.4"
  },
  "orig_nbformat": 3
 },
 "nbformat": 4,
 "nbformat_minor": 5
}