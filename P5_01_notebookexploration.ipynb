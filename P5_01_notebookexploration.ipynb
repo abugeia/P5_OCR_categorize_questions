{
 "cells": [
  {
   "cell_type": "code",
   "execution_count": 4,
   "id": "celtic-administration",
   "metadata": {},
   "outputs": [
    {
     "data": {
      "text/html": [
       "\n",
       "<style>\n",
       "    div#notebook-container    { width: 95%; }\n",
       "    div#menubar-container     { width: 65%; }\n",
       "    div#maintoolbar-container { width: 99%; }\n",
       "</style>\n"
      ],
      "text/plain": [
       "<IPython.core.display.HTML object>"
      ]
     },
     "metadata": {},
     "output_type": "display_data"
    }
   ],
   "source": [
    "%matplotlib inline\n",
    "\n",
    "import numpy as np\n",
    "import pandas as pd\n",
    "import matplotlib.pyplot as plt\n",
    "import seaborn as sns\n",
    "\n",
    "from IPython.display import display, HTML\n",
    "\n",
    "from IPython.core.interactiveshell import InteractiveShell\n",
    "\n",
    "# Activate multi output\n",
    "InteractiveShell.ast_node_interactivity = \"all\"\n",
    "\n",
    "# set size of window\n",
    "display(HTML(data=\"\"\"\n",
    "<style>\n",
    "    div#notebook-container    { width: 95%; }\n",
    "    div#menubar-container     { width: 65%; }\n",
    "    div#maintoolbar-container { width: 99%; }\n",
    "</style>\n",
    "\"\"\"))\n",
    "\n",
    "pd.set_option('display.max_column', 100)"
   ]
  },
  {
   "cell_type": "markdown",
   "id": "alpine-preservation",
   "metadata": {},
   "source": [
    "# Questions\n",
    "\n",
    "Stack Overflow est un site célèbre de questions-réponses liées au développement informatique. Pour poser une question sur ce site, il faut entrer plusieurs tags de manière à retrouver facilement la question par la suite. Pour les utilisateurs expérimentés, cela ne pose pas de problème, mais pour les nouveaux utilisateurs, il serait judicieux de suggérer quelques tags relatifs à la question posée.\n",
    "\n",
    "Amateur de Stack Overflow, qui vous a souvent sauvé la mise, vous décidez d'aider la communauté en retour. Pour cela, vous développez un système de suggestion de tag pour le site. Celui-ci prendra la forme d’un algorithme de machine learning qui assigne automatiquement plusieurs tags pertinents à une question.\n",
    "\n",
    "\n",
    "\n",
    "### Objectifs\n",
    "* Mettre en œuvre des techniques d’extraction de features pour des données non structurées\n",
    "* Représenter graphiquement des données à grandes dimensions\n",
    "* Prétraiter des données non structurées pour obtenir un jeu de données exploitable\n",
    "* Mettre en œuvre des techniques de réduction de dimension"
   ]
  },
  {
   "cell_type": "markdown",
   "id": "later-motorcycle",
   "metadata": {},
   "source": [
    "<img src=\"14858512893477_so-logo.png\" width=\"600px\">    \n",
    "\n",
    "<a id=\"top\"></a>\n",
    "<h1 style=\"font-family:verdana;font-size:300%;text-align:left;\">Sommaire</h1>\n",
    "\n",
    "---\n",
    "\n",
    "* [1. Sujet](#1)\n",
    "    * [1.1 Contexte](#1.1)\n",
    "    * [1.2 Problématique](#1.2)\n",
    "    * [1.3 PEP8](#1.3)    \n",
    "* [2. Import](#2)\n",
    "* [3. Cleaning -Exploration](#3)\n",
    "    * [3.1 df_order_reviews](#3.1)\n",
    "    * [3.2 df_order_payments](#3.2)\n",
    "    * [3.3 df_orders](#3.3)\n",
    "    * [3.4 df_customers](#3.4)\n",
    "    * [3.5 df_geolocation](#3.5)\n",
    "    * [3.6 df_order_items - df_products - df_translation](#3.6)\n",
    "    * [3.7 df_clean](#3.7)\n",
    "* [4. Features](#4)\n",
    "    * [4.1 Récence](#4.1)\n",
    "    * [4.2 Fréquence](#4.2)\n",
    "    * [4.3 Montant](#4.3)\n",
    "    * [4.4 Recapitulatif](#4.4)\n",
    "* [5. Imputation](#5)\n",
    "* [6. Encodage](#6)\n",
    "* [7. Export](#7)\n",
    "\n",
    "\n",
    "<a id=\"1\"></a>\n",
    "<h2 style=\"font-family:verdana;font-size:250%;text-align:left;\">1. Sujet</h2>\n",
    "\n",
    "---\n",
    "\n",
    "<a id=\"1.1\"></a>\n",
    "<h3 style=\"font-family:verdana;font-size:200%;text-align:left;\">1.1 Contexte</h3>\n",
    "\n",
    "\n",
    "<a href=\"#top\" class=\"btn btn-primary btn-sm\" role=\"button\" aria-pressed=\"true\" style=\"color:white\" data-toggle=\"popover\">Sommaire</a>"
   ]
  },
  {
   "cell_type": "code",
   "execution_count": null,
   "id": "seventh-latvia",
   "metadata": {},
   "outputs": [],
   "source": []
  }
 ],
 "metadata": {
  "kernelspec": {
   "display_name": "Python 3",
   "language": "python",
   "name": "python3"
  },
  "language_info": {
   "codemirror_mode": {
    "name": "ipython",
    "version": 3
   },
   "file_extension": ".py",
   "mimetype": "text/x-python",
   "name": "python",
   "nbconvert_exporter": "python",
   "pygments_lexer": "ipython3",
   "version": "3.8.5"
  }
 },
 "nbformat": 4,
 "nbformat_minor": 5
}
